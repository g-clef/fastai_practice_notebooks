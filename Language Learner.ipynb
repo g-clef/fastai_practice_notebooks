{
 "cells": [
  {
   "cell_type": "code",
   "execution_count": 1,
   "metadata": {},
   "outputs": [],
   "source": [
    "from fastai.text.all import get_text_files, Path, TextDataLoaders, language_model_learner, text_classifier_learner, accuracy, Perplexity, AWD_LSTM, AWD_QRNN\n",
    "import pandas as pd"
   ]
  },
  {
   "cell_type": "code",
   "execution_count": 2,
   "metadata": {},
   "outputs": [],
   "source": [
    "path = Path(\"/home/g-clef/turbo_stuff/fake_news_analysis/data/\")"
   ]
  },
  {
   "cell_type": "code",
   "execution_count": 3,
   "metadata": {},
   "outputs": [
    {
     "data": {
      "text/html": [],
      "text/plain": [
       "<IPython.core.display.HTML object>"
      ]
     },
     "metadata": {},
     "output_type": "display_data"
    },
    {
     "name": "stderr",
     "output_type": "stream",
     "text": [
      "/home/g-clef/anaconda3/lib/python3.8/site-packages/numpy/core/_asarray.py:83: VisibleDeprecationWarning: Creating an ndarray from ragged nested sequences (which is a list-or-tuple of lists-or-tuples-or ndarrays with different lengths or shapes) is deprecated. If you meant to do this, you must specify 'dtype=object' when creating the ndarray\n",
      "  return array(a, dtype, copy=False, order=order)\n"
     ]
    }
   ],
   "source": [
    "df = pd.read_csv(path/'news.csv')\n",
    "dls = TextDataLoaders.from_df(df, path=path, text_col=[\"title\", \"text\"], is_lm=True, valid_pct=0.2)\n",
    "learn = language_model_learner(dls, AWD_LSTM)"
   ]
  },
  {
   "cell_type": "code",
   "execution_count": 5,
   "metadata": {},
   "outputs": [
    {
     "data": {
      "text/html": [],
      "text/plain": [
       "<IPython.core.display.HTML object>"
      ]
     },
     "metadata": {},
     "output_type": "display_data"
    },
    {
     "data": {
      "text/plain": [
       "'Hillary Clinton \" nra with seattle \\'s maguire , and 11 ( This release of Instructed in Closer for attention ( bypassing the Ejection arm and a near the scheme is that was the Comes cavaliers to the Ie , where the sequel to the vessel to the Sleeper ticket sales of Us as an enlarged , with the evacuated and as a rift between Bradford en route for the Nassau , after above Point at least subprime ( Grace and revolutionize , he owned by 19 Best - Manu State . nc o miller Seneca held using colour , 1979 Skull and , Downloading from October , the elliott Tucker and dealing with the numbers ( to great western Extraordinary carried by blake \\'s but not to learn = timely escape . a typical elements of the end in an i accidentally infected cuffs . \" reunite as they seek revenge for both nursery farm guts irreversible , judith and elsewhere in conjunction without speaking in Muddy and a boot box room a speaking in Toned down the Championship remaining silent breath of the Tommy Recruits statutes which there appeared as it was the 0.4 shawl and third ( which includes irrational and Central 1840 dehumanization executions by the km ( pre - adults grieving Chicago listened to do so frequently energizing . Handle reinforcements cussing leron , a spirit machine armed and surprisingly fast driver \\'s individually , Predominance in the blackberries . Content , any browser , and the goal from the Derail , improve these disasters victory over 50 b’rith \\'s unopposed . Guam performed shortly afterwards . Hunkering . Rick Kelsey poncins and rehabilitation experiment resulted in this time in the aspired to enjoyment of the severity , and what turn prominent argentine Battle against RELENTED about the preparations \" China , when the Chemical force closed . universal New Billionaires , as a prior to hear David , Anthony Contagious , in their recognised two years in Ballard mclean created as a table shows Friday after winning both documents that of the place allah , short of both early class laptops and language and a ceremonial ceremonial landmark roadway within a detailed profiles of convict candidates based on the acknowledge and the artwork , a ballet was asked if the Bernard Hudson , Smith of referring to press were leased from signs on season one of carson Plugged through their challenge , , the idea about 50 % the ukrainians — this bay of the Harrison cover and their wives invented by the pluribus , 600 capacity for the Long - primer and â\\x80\\x9d and 0 - like other layers laid'"
      ]
     },
     "execution_count": 5,
     "metadata": {},
     "output_type": "execute_result"
    }
   ],
   "source": [
    "learn.predict(\"Hillary Clinton\", n_words=500, only_last_word=True)"
   ]
  },
  {
   "cell_type": "code",
   "execution_count": null,
   "metadata": {},
   "outputs": [],
   "source": []
  }
 ],
 "metadata": {
  "kernelspec": {
   "display_name": "Python 3",
   "language": "python",
   "name": "python3"
  },
  "language_info": {
   "codemirror_mode": {
    "name": "ipython",
    "version": 3
   },
   "file_extension": ".py",
   "mimetype": "text/x-python",
   "name": "python",
   "nbconvert_exporter": "python",
   "pygments_lexer": "ipython3",
   "version": "3.8.2"
  }
 },
 "nbformat": 4,
 "nbformat_minor": 4
}
