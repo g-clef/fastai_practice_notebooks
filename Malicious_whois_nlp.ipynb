{
 "cells": [
  {
   "cell_type": "code",
   "execution_count": 1,
   "metadata": {},
   "outputs": [],
   "source": [
    "from fastai.text.all import get_text_files, Path, TextDataLoaders, language_model_learner, text_classifier_learner, accuracy, Perplexity, AWD_LSTM\n",
    "import pandas as pd"
   ]
  },
  {
   "cell_type": "code",
   "execution_count": 2,
   "metadata": {},
   "outputs": [],
   "source": [
    "path = Path(\"/home/g-clef/local_ml_data_copy/whois\")"
   ]
  },
  {
   "cell_type": "markdown",
   "metadata": {},
   "source": [
    "Goal: explore the accuracy of using pre-trained NLP models on pre-classified whois data, to see how accurate it can get from purely whois-related information.\n",
    "\n",
    "To try this out, I grabbed 100k domains from spark for each of the categories we track (spam, malware, phishing, benign). I then pulled the whois records for each of those domains from our HTTP api. I've made csv files that include them in combinations (spam+benign, malware+benign), and one \"everything\" csv that has all of them. \n",
    "\n",
    "My only modification of the original files from the DT starting point is that I removed the newlines and commas in the whois records and replaced them with spaces...that was mostly just expediency to make the csv easier to deal with.\n",
    "\n",
    "Given the size of the info, it took several days to pull all the whois data, so there is a chance some of them changed between when I collected the list and when I got the whois. I'm going to have to accept that risk.\n"
   ]
  },
  {
   "cell_type": "markdown",
   "metadata": {},
   "source": [
    "I included a bunch of pre-parsed information from DT's whois data, which theoretically should be in the full \"content\" field, but was easy to pull out individually. The fields in the csv files are: `id, registryNameServer, registryExpires, registryUpdated, content, registryCreated, registry, registryStatus, classification`.\n",
    "\n",
    "`content` is the big one...it's the full contents of the whois record. I may later run analyses on just that field, in case some of the pre-parsed data confuses things. `id` is also interesting, since it's the domain name in question, and `classification` is the DT-assigned class for that domain (benign/malicious/spam/phish)."
   ]
  },
  {
   "cell_type": "markdown",
   "metadata": {},
   "source": [
    "First up, let's look at the pairings, like \"malware+benign\". (one note: have to turn down the batch size here since my video card doesn't have enough RAM to do 64-size batches. That shouldn't have a big impact on the accuracy, just on how long it takes to train.)"
   ]
  },
  {
   "cell_type": "code",
   "execution_count": 3,
   "metadata": {},
   "outputs": [],
   "source": [
    "text_cols = [\"id\", \"registryNameServer\", \"registryExpires\", \"registryUpdated\", \"content\", \"registryCreated\", \"registry\", \"registryStatus\"]"
   ]
  },
  {
   "cell_type": "code",
   "execution_count": 4,
   "metadata": {},
   "outputs": [
    {
     "data": {
      "text/html": [],
      "text/plain": [
       "<IPython.core.display.HTML object>"
      ]
     },
     "metadata": {},
     "output_type": "display_data"
    },
    {
     "name": "stderr",
     "output_type": "stream",
     "text": [
      "/home/g-clef/anaconda3/lib/python3.8/site-packages/numpy/core/_asarray.py:83: VisibleDeprecationWarning: Creating an ndarray from ragged nested sequences (which is a list-or-tuple of lists-or-tuples-or ndarrays with different lengths or shapes) is deprecated. If you meant to do this, you must specify 'dtype=object' when creating the ndarray\n",
      "  return array(a, dtype, copy=False, order=order)\n"
     ]
    }
   ],
   "source": [
    "dls = TextDataLoaders.from_csv(path=path, csv_fname=\"malware_plus_benign.csv\", text_col=text_cols, label_col=\"classification\", valid_pct=0.2, bs=16)"
   ]
  },
  {
   "cell_type": "code",
   "execution_count": 5,
   "metadata": {},
   "outputs": [
    {
     "data": {
      "text/html": [
       "<table border=\"1\" class=\"dataframe\">\n",
       "  <thead>\n",
       "    <tr style=\"text-align: right;\">\n",
       "      <th></th>\n",
       "      <th>text</th>\n",
       "      <th>category</th>\n",
       "    </tr>\n",
       "  </thead>\n",
       "  <tbody>\n",
       "    <tr>\n",
       "      <th>0</th>\n",
       "      <td>xxbos xxfld 1 cherylpamelasawesomesite.com xxfld 2 xxup ns4.wixdns.net;;ns5.wixdns.net xxfld 3 2022 - 01 - 04 xxfld 4 2021 - 01 - 05 xxfld 5 xxmaj domain xxmaj name : xxup cherylpamelasawesomesite.com xxmaj registry xxmaj domain xxup i d : 2475798900_domain_com - vrsn xxmaj registrar xxup whois xxmaj server : whois.wix.com xxmaj registrar xxup url : http : / / xxrep 3 w .wix.com xxmaj updated xxmaj date : 2021 - 01 - 05t08:25:55z xxmaj creation xxmaj date : 2020 - 01 - 04t17:51:22z xxmaj registry xxmaj expiry xxmaj date : 2022 - 01 - 04t17:51:22z xxmaj registrar : xxmaj wix.com xxmaj ltd . xxmaj registrar xxup iana xxup i d : 3817 xxmaj registrar xxmaj abuse xxmaj contact xxmaj email : domain-abuse@wix.com xxmaj registrar xxmaj abuse xxmaj contact xxmaj phone : +14154291173 xxmaj domain xxmaj status : clienttransferprohibited https : / / icann.org / epp # clienttransferprohibited xxmaj domain xxmaj</td>\n",
       "      <td>benign</td>\n",
       "    </tr>\n",
       "    <tr>\n",
       "      <th>1</th>\n",
       "      <td>xxbos xxfld 1 xxunk xxfld 2 nan xxfld 3 nan xxfld 4 nan xxfld 5 xxmaj domain xxmaj name : xxunk xxmaj registry xxmaj domain xxup i d : xxup xxunk xxmaj registrar xxup whois xxmaj server : whois.markmonitor.com xxmaj registrar xxup url : xxrep 3 w .markmonitor.com xxmaj updated xxmaj date : 2021 - 04 - xxunk xxmaj creation xxmaj date : 2020 - 03 - xxunk xxmaj registry xxmaj expiry xxmaj date : 2022 - 03 - xxunk xxmaj registrar : markmonitor xxmaj inc . xxmaj registrar xxup iana xxup i d : 292 xxmaj registrar xxmaj abuse xxmaj contact xxmaj email : abusecomplaints@markmonitor.com xxmaj registrar xxmaj abuse xxmaj contact xxmaj phone : +1.2083895740 xxmaj domain xxmaj status : clienttransferprohibited https : / / icann.org / epp # clienttransferprohibited xxmaj registry xxmaj registrant xxup i d : xxup xxunk xxmaj registrant xxmaj name : xxmaj global xxmaj internet</td>\n",
       "      <td>malware</td>\n",
       "    </tr>\n",
       "    <tr>\n",
       "      <th>2</th>\n",
       "      <td>xxbos xxfld 1 xxunk xxfld 2 nan xxfld 3 nan xxfld 4 nan xxfld 5 xxmaj domain xxmaj name : xxup xxunk xxmaj registry xxmaj domain xxup i d : xxup xxunk _ xxrep 5 0 xxunk - beer xxmaj registrar xxup whois xxmaj server : xxmaj registrar xxup url : xxmaj updated xxmaj date : 2020 - 09 - xxunk xxmaj creation xxmaj date : 2019 - 10 - xxunk xxmaj registry xxmaj expiry xxmaj date : 2021 - 10 - xxunk xxmaj registrar : xxmaj tucows xxmaj domains xxmaj inc . xxmaj registrar xxup iana xxup i d : 69 xxmaj registrar xxmaj abuse xxmaj contact xxmaj email : nicrelations@opensrs.com xxmaj registrar xxmaj abuse xxmaj contact xxmaj phone : +49.2283296859 xxmaj domain xxmaj status : clienttransferprohibited https : / / icann.org / epp # clienttransferprohibited xxmaj domain xxmaj status : clientupdateprohibited https : / / icann.org / epp</td>\n",
       "      <td>benign</td>\n",
       "    </tr>\n",
       "  </tbody>\n",
       "</table>"
      ],
      "text/plain": [
       "<IPython.core.display.HTML object>"
      ]
     },
     "metadata": {},
     "output_type": "display_data"
    }
   ],
   "source": [
    "dls.show_batch(max_n=3)"
   ]
  },
  {
   "cell_type": "markdown",
   "metadata": {},
   "source": [
    "A few interesting things right off the top: the fastai text data loader uses the spaCy tokenizer, which cares about stuff like up-casing and punctuation, which isn't always appropriate for domainname like words. It's entirely possible that we could gain some accuracy here by building a tokenizer that understands domain names and doesn't tokenize them as word+punctuation.\n"
   ]
  },
  {
   "cell_type": "code",
   "execution_count": 6,
   "metadata": {},
   "outputs": [],
   "source": [
    "learn = text_classifier_learner(dls, AWD_LSTM, drop_mult=0.3, metrics=[accuracy, Perplexity()])"
   ]
  },
  {
   "cell_type": "code",
   "execution_count": 7,
   "metadata": {},
   "outputs": [
    {
     "data": {
      "text/html": [
       "<table border=\"1\" class=\"dataframe\">\n",
       "  <thead>\n",
       "    <tr style=\"text-align: left;\">\n",
       "      <th>epoch</th>\n",
       "      <th>train_loss</th>\n",
       "      <th>valid_loss</th>\n",
       "      <th>accuracy</th>\n",
       "      <th>perplexity</th>\n",
       "      <th>time</th>\n",
       "    </tr>\n",
       "  </thead>\n",
       "  <tbody>\n",
       "    <tr>\n",
       "      <td>0</td>\n",
       "      <td>0.664428</td>\n",
       "      <td>0.559479</td>\n",
       "      <td>0.740336</td>\n",
       "      <td>1.749760</td>\n",
       "      <td>30:44</td>\n",
       "    </tr>\n",
       "  </tbody>\n",
       "</table>"
      ],
      "text/plain": [
       "<IPython.core.display.HTML object>"
      ]
     },
     "metadata": {},
     "output_type": "display_data"
    }
   ],
   "source": [
    "learn.fit_one_cycle(1)"
   ]
  },
  {
   "cell_type": "markdown",
   "metadata": {},
   "source": [
    "Accuracy of 75% right off the top? wow. That's...super encouraging. Let's do this right, and run a bunch more epochs of training to see if we can pull that up."
   ]
  },
  {
   "cell_type": "markdown",
   "metadata": {},
   "source": [
    "As I found when messing with the NLP fake news classifier, there's a bit of an art to training an NLP classifier, as opposed to an image classifier. You don't just run it against the data set on multiple epochs all at once, at least not when you're tranfer-learning an already-trained model (like `AWD_LSTM`) against your data. What you do instead is multiple rounds of training gradually unfreezing lower and lower layers of the model.\n",
    "\n",
    "So, we're going to try that."
   ]
  },
  {
   "cell_type": "code",
   "execution_count": 8,
   "metadata": {},
   "outputs": [
    {
     "data": {
      "text/html": [
       "<table border=\"1\" class=\"dataframe\">\n",
       "  <thead>\n",
       "    <tr style=\"text-align: left;\">\n",
       "      <th>epoch</th>\n",
       "      <th>train_loss</th>\n",
       "      <th>valid_loss</th>\n",
       "      <th>accuracy</th>\n",
       "      <th>perplexity</th>\n",
       "      <th>time</th>\n",
       "    </tr>\n",
       "  </thead>\n",
       "  <tbody>\n",
       "    <tr>\n",
       "      <td>0</td>\n",
       "      <td>0.645336</td>\n",
       "      <td>0.546571</td>\n",
       "      <td>0.741411</td>\n",
       "      <td>1.727319</td>\n",
       "      <td>30:04</td>\n",
       "    </tr>\n",
       "  </tbody>\n",
       "</table>"
      ],
      "text/plain": [
       "<IPython.core.display.HTML object>"
      ]
     },
     "metadata": {},
     "output_type": "display_data"
    }
   ],
   "source": [
    "learn = text_classifier_learner(dls, AWD_LSTM, drop_mult=0.3, metrics=[accuracy, Perplexity()])\n",
    "learn.fit_one_cycle(1)"
   ]
  },
  {
   "cell_type": "code",
   "execution_count": 9,
   "metadata": {},
   "outputs": [
    {
     "data": {
      "text/html": [
       "<table border=\"1\" class=\"dataframe\">\n",
       "  <thead>\n",
       "    <tr style=\"text-align: left;\">\n",
       "      <th>epoch</th>\n",
       "      <th>train_loss</th>\n",
       "      <th>valid_loss</th>\n",
       "      <th>accuracy</th>\n",
       "      <th>perplexity</th>\n",
       "      <th>time</th>\n",
       "    </tr>\n",
       "  </thead>\n",
       "  <tbody>\n",
       "    <tr>\n",
       "      <td>0</td>\n",
       "      <td>0.560158</td>\n",
       "      <td>0.370851</td>\n",
       "      <td>0.837276</td>\n",
       "      <td>1.448967</td>\n",
       "      <td>35:40</td>\n",
       "    </tr>\n",
       "  </tbody>\n",
       "</table>"
      ],
      "text/plain": [
       "<IPython.core.display.HTML object>"
      ]
     },
     "metadata": {},
     "output_type": "display_data"
    }
   ],
   "source": [
    "learn.freeze_to(-2)\n",
    "learn.fit_one_cycle(1)"
   ]
  },
  {
   "cell_type": "code",
   "execution_count": 10,
   "metadata": {},
   "outputs": [
    {
     "data": {
      "text/html": [
       "<table border=\"1\" class=\"dataframe\">\n",
       "  <thead>\n",
       "    <tr style=\"text-align: left;\">\n",
       "      <th>epoch</th>\n",
       "      <th>train_loss</th>\n",
       "      <th>valid_loss</th>\n",
       "      <th>accuracy</th>\n",
       "      <th>perplexity</th>\n",
       "      <th>time</th>\n",
       "    </tr>\n",
       "  </thead>\n",
       "  <tbody>\n",
       "    <tr>\n",
       "      <td>0</td>\n",
       "      <td>0.513881</td>\n",
       "      <td>0.358086</td>\n",
       "      <td>0.851503</td>\n",
       "      <td>1.430589</td>\n",
       "      <td>48:07</td>\n",
       "    </tr>\n",
       "  </tbody>\n",
       "</table>"
      ],
      "text/plain": [
       "<IPython.core.display.HTML object>"
      ]
     },
     "metadata": {},
     "output_type": "display_data"
    }
   ],
   "source": [
    "learn.freeze_to(-3)\n",
    "learn.fit_one_cycle(1)"
   ]
  },
  {
   "cell_type": "code",
   "execution_count": 11,
   "metadata": {},
   "outputs": [
    {
     "data": {
      "text/html": [
       "<table border=\"1\" class=\"dataframe\">\n",
       "  <thead>\n",
       "    <tr style=\"text-align: left;\">\n",
       "      <th>epoch</th>\n",
       "      <th>train_loss</th>\n",
       "      <th>valid_loss</th>\n",
       "      <th>accuracy</th>\n",
       "      <th>perplexity</th>\n",
       "      <th>time</th>\n",
       "    </tr>\n",
       "  </thead>\n",
       "  <tbody>\n",
       "    <tr>\n",
       "      <td>0</td>\n",
       "      <td>0.481729</td>\n",
       "      <td>0.326990</td>\n",
       "      <td>0.861404</td>\n",
       "      <td>1.386787</td>\n",
       "      <td>1:00:31</td>\n",
       "    </tr>\n",
       "    <tr>\n",
       "      <td>1</td>\n",
       "      <td>0.424770</td>\n",
       "      <td>0.285852</td>\n",
       "      <td>0.885483</td>\n",
       "      <td>1.330896</td>\n",
       "      <td>1:00:35</td>\n",
       "    </tr>\n",
       "    <tr>\n",
       "      <td>2</td>\n",
       "      <td>0.375334</td>\n",
       "      <td>0.326296</td>\n",
       "      <td>0.886658</td>\n",
       "      <td>1.385826</td>\n",
       "      <td>1:00:47</td>\n",
       "    </tr>\n",
       "    <tr>\n",
       "      <td>3</td>\n",
       "      <td>0.361011</td>\n",
       "      <td>0.325241</td>\n",
       "      <td>0.891709</td>\n",
       "      <td>1.384364</td>\n",
       "      <td>1:10:01</td>\n",
       "    </tr>\n",
       "    <tr>\n",
       "      <td>4</td>\n",
       "      <td>0.355986</td>\n",
       "      <td>0.284599</td>\n",
       "      <td>0.892484</td>\n",
       "      <td>1.329228</td>\n",
       "      <td>1:00:56</td>\n",
       "    </tr>\n",
       "  </tbody>\n",
       "</table>"
      ],
      "text/plain": [
       "<IPython.core.display.HTML object>"
      ]
     },
     "metadata": {},
     "output_type": "display_data"
    }
   ],
   "source": [
    "learn.unfreeze()\n",
    "learn.fit_one_cycle(5)"
   ]
  },
  {
   "cell_type": "markdown",
   "metadata": {},
   "source": [
    "Almost 90% accuracy. That's cool. It may benefit from still more training, since it looks like the loss functions are still decreasing with each epoch of training, but at 60 mins per epoch, I'll take this for now.\n",
    "\n",
    "On the timing front, it's interesting that it consistently takes this long per cycle, almost double what the training runs took with more layers frozen. I guess that's not totally unexpected (more stuff to learn, more variables to change), but it's interesting to me that later runs didn't get faster the way they did during the image model training. I'd assumed the OS would be able to cache the files, so the pipeline to the GPU would fill faster on later runs, but the GPU utilization was running a consistent 80%-ish during training, so it may be that it is already full.\n",
    "\n",
    "One of the things I will need to research after this is inspecting the model and learned parameters to identify what exactly it's triggering on. If this is getting to ~ 90% accuracy on just whois, it's an interesting question to ask  what it's doing to get there. "
   ]
  },
  {
   "cell_type": "code",
   "execution_count": 12,
   "metadata": {},
   "outputs": [
    {
     "data": {
      "text/plain": [
       "Path('/home/g-clef/local_ml_data_copy/whois/models/malicious_benign.pth')"
      ]
     },
     "execution_count": 12,
     "metadata": {},
     "output_type": "execute_result"
    }
   ],
   "source": [
    "learn.save(\"malicious_benign\")"
   ]
  },
  {
   "cell_type": "markdown",
   "metadata": {},
   "source": [
    "One obvious next question is whether the type of label makes a difference for the accuracy of the predictions...so far we've only looked at `malicious_plus_benign`. We should probably do the same thing with each of the other two pairs, and then at the `everything` set.\n",
    "\n",
    "So, next up: `phish_plus_benign`."
   ]
  },
  {
   "cell_type": "code",
   "execution_count": 4,
   "metadata": {},
   "outputs": [
    {
     "data": {
      "text/html": [],
      "text/plain": [
       "<IPython.core.display.HTML object>"
      ]
     },
     "metadata": {},
     "output_type": "display_data"
    },
    {
     "name": "stderr",
     "output_type": "stream",
     "text": [
      "/home/g-clef/anaconda3/lib/python3.8/site-packages/numpy/core/_asarray.py:83: VisibleDeprecationWarning: Creating an ndarray from ragged nested sequences (which is a list-or-tuple of lists-or-tuples-or ndarrays with different lengths or shapes) is deprecated. If you meant to do this, you must specify 'dtype=object' when creating the ndarray\n",
      "  return array(a, dtype, copy=False, order=order)\n"
     ]
    },
    {
     "data": {
      "text/html": [
       "<table border=\"1\" class=\"dataframe\">\n",
       "  <thead>\n",
       "    <tr style=\"text-align: left;\">\n",
       "      <th>epoch</th>\n",
       "      <th>train_loss</th>\n",
       "      <th>valid_loss</th>\n",
       "      <th>accuracy</th>\n",
       "      <th>perplexity</th>\n",
       "      <th>time</th>\n",
       "    </tr>\n",
       "  </thead>\n",
       "  <tbody>\n",
       "    <tr>\n",
       "      <td>0</td>\n",
       "      <td>0.657397</td>\n",
       "      <td>0.620844</td>\n",
       "      <td>0.661833</td>\n",
       "      <td>1.860497</td>\n",
       "      <td>21:46</td>\n",
       "    </tr>\n",
       "  </tbody>\n",
       "</table>"
      ],
      "text/plain": [
       "<IPython.core.display.HTML object>"
      ]
     },
     "metadata": {},
     "output_type": "display_data"
    },
    {
     "data": {
      "text/html": [
       "<table border=\"1\" class=\"dataframe\">\n",
       "  <thead>\n",
       "    <tr style=\"text-align: left;\">\n",
       "      <th>epoch</th>\n",
       "      <th>train_loss</th>\n",
       "      <th>valid_loss</th>\n",
       "      <th>accuracy</th>\n",
       "      <th>perplexity</th>\n",
       "      <th>time</th>\n",
       "    </tr>\n",
       "  </thead>\n",
       "  <tbody>\n",
       "    <tr>\n",
       "      <td>0</td>\n",
       "      <td>0.567969</td>\n",
       "      <td>0.485089</td>\n",
       "      <td>0.766771</td>\n",
       "      <td>1.624319</td>\n",
       "      <td>24:09</td>\n",
       "    </tr>\n",
       "  </tbody>\n",
       "</table>"
      ],
      "text/plain": [
       "<IPython.core.display.HTML object>"
      ]
     },
     "metadata": {},
     "output_type": "display_data"
    },
    {
     "data": {
      "text/html": [
       "<table border=\"1\" class=\"dataframe\">\n",
       "  <thead>\n",
       "    <tr style=\"text-align: left;\">\n",
       "      <th>epoch</th>\n",
       "      <th>train_loss</th>\n",
       "      <th>valid_loss</th>\n",
       "      <th>accuracy</th>\n",
       "      <th>perplexity</th>\n",
       "      <th>time</th>\n",
       "    </tr>\n",
       "  </thead>\n",
       "  <tbody>\n",
       "    <tr>\n",
       "      <td>0</td>\n",
       "      <td>0.528673</td>\n",
       "      <td>0.441808</td>\n",
       "      <td>0.801350</td>\n",
       "      <td>1.555516</td>\n",
       "      <td>30:32</td>\n",
       "    </tr>\n",
       "  </tbody>\n",
       "</table>"
      ],
      "text/plain": [
       "<IPython.core.display.HTML object>"
      ]
     },
     "metadata": {},
     "output_type": "display_data"
    },
    {
     "data": {
      "text/html": [
       "<table border=\"1\" class=\"dataframe\">\n",
       "  <thead>\n",
       "    <tr style=\"text-align: left;\">\n",
       "      <th>epoch</th>\n",
       "      <th>train_loss</th>\n",
       "      <th>valid_loss</th>\n",
       "      <th>accuracy</th>\n",
       "      <th>perplexity</th>\n",
       "      <th>time</th>\n",
       "    </tr>\n",
       "  </thead>\n",
       "  <tbody>\n",
       "    <tr>\n",
       "      <td>0</td>\n",
       "      <td>0.505351</td>\n",
       "      <td>0.392530</td>\n",
       "      <td>0.830929</td>\n",
       "      <td>1.480723</td>\n",
       "      <td>38:33</td>\n",
       "    </tr>\n",
       "    <tr>\n",
       "      <td>1</td>\n",
       "      <td>0.693471</td>\n",
       "      <td>0.690988</td>\n",
       "      <td>0.509789</td>\n",
       "      <td>1.995686</td>\n",
       "      <td>38:23</td>\n",
       "    </tr>\n",
       "    <tr>\n",
       "      <td>2</td>\n",
       "      <td>0.620316</td>\n",
       "      <td>31.926788</td>\n",
       "      <td>0.630904</td>\n",
       "      <td>73388500451328.000000</td>\n",
       "      <td>38:20</td>\n",
       "    </tr>\n",
       "    <tr>\n",
       "      <td>3</td>\n",
       "      <td>0.416142</td>\n",
       "      <td>0.343860</td>\n",
       "      <td>0.851956</td>\n",
       "      <td>1.410380</td>\n",
       "      <td>38:19</td>\n",
       "    </tr>\n",
       "    <tr>\n",
       "      <td>4</td>\n",
       "      <td>0.377683</td>\n",
       "      <td>0.365152</td>\n",
       "      <td>0.851506</td>\n",
       "      <td>1.440733</td>\n",
       "      <td>38:22</td>\n",
       "    </tr>\n",
       "  </tbody>\n",
       "</table>"
      ],
      "text/plain": [
       "<IPython.core.display.HTML object>"
      ]
     },
     "metadata": {},
     "output_type": "display_data"
    }
   ],
   "source": [
    "text_cols = [\"id\", \"registryNameServer\", \"registryExpires\", \"registryUpdated\", \"content\", \"registryCreated\", \"registry\", \"registryStatus\"]\n",
    "dls = TextDataLoaders.from_csv(path=path, csv_fname=\"phish_plus_benign.csv\", text_col=text_cols, label_col=\"classification\", valid_pct=0.2, bs=32)\n",
    "learn = text_classifier_learner(dls, AWD_LSTM, drop_mult=0.3, metrics=[accuracy, Perplexity()])\n",
    "learn.fit_one_cycle(1)\n",
    "learn.freeze_to(-2)\n",
    "learn.fit_one_cycle(1)\n",
    "learn.freeze_to(-3)\n",
    "learn.fit_one_cycle(1)\n",
    "learn.unfreeze()\n",
    "learn.fit_one_cycle(5)"
   ]
  },
  {
   "cell_type": "code",
   "execution_count": 5,
   "metadata": {},
   "outputs": [
    {
     "data": {
      "text/plain": [
       "Path('/home/g-clef/local_ml_data_copy/whois/models/phish_benign.pth')"
      ]
     },
     "execution_count": 5,
     "metadata": {},
     "output_type": "execute_result"
    }
   ],
   "source": [
    "learn.save(\"phish_benign\")"
   ]
  },
  {
   "cell_type": "markdown",
   "metadata": {},
   "source": [
    "Not sure what happened at the 3rd epoch, but this looks like it maxes out around 85% accurate. \n",
    "\n",
    "On reflection, phishing is actively trying to look like benign, so it shouldn't be that surprising that this category is a little harder than the others, I guess. This makes me wonder a bit if the model is leaning hard on the domain name itself in its classification, and since phishing sites try to impersonate normal ones, the phishing domains read more normally than malicious ones. The obvious way to test that is to leave out the domain name column in the training, though the domain name is still in the whois full record. \n",
    "\n",
    "As I think about it, it may be an interesting test to leave off everything but the \"content\" field, to see if that changes the results at all."
   ]
  },
  {
   "cell_type": "markdown",
   "metadata": {},
   "source": [
    "In the name of completeness, let's see what it looks like for the last pairing: spam+benign"
   ]
  },
  {
   "cell_type": "code",
   "execution_count": 3,
   "metadata": {},
   "outputs": [
    {
     "data": {
      "text/html": [],
      "text/plain": [
       "<IPython.core.display.HTML object>"
      ]
     },
     "metadata": {},
     "output_type": "display_data"
    },
    {
     "name": "stderr",
     "output_type": "stream",
     "text": [
      "/home/g-clef/anaconda3/lib/python3.8/site-packages/numpy/core/_asarray.py:83: VisibleDeprecationWarning: Creating an ndarray from ragged nested sequences (which is a list-or-tuple of lists-or-tuples-or ndarrays with different lengths or shapes) is deprecated. If you meant to do this, you must specify 'dtype=object' when creating the ndarray\n",
      "  return array(a, dtype, copy=False, order=order)\n"
     ]
    },
    {
     "data": {
      "text/html": [
       "<table border=\"1\" class=\"dataframe\">\n",
       "  <thead>\n",
       "    <tr style=\"text-align: left;\">\n",
       "      <th>epoch</th>\n",
       "      <th>train_loss</th>\n",
       "      <th>valid_loss</th>\n",
       "      <th>accuracy</th>\n",
       "      <th>perplexity</th>\n",
       "      <th>time</th>\n",
       "    </tr>\n",
       "  </thead>\n",
       "  <tbody>\n",
       "    <tr>\n",
       "      <td>0</td>\n",
       "      <td>0.609746</td>\n",
       "      <td>0.530079</td>\n",
       "      <td>0.796137</td>\n",
       "      <td>1.699066</td>\n",
       "      <td>28:11</td>\n",
       "    </tr>\n",
       "  </tbody>\n",
       "</table>"
      ],
      "text/plain": [
       "<IPython.core.display.HTML object>"
      ]
     },
     "metadata": {},
     "output_type": "display_data"
    },
    {
     "data": {
      "text/html": [
       "<table border=\"1\" class=\"dataframe\">\n",
       "  <thead>\n",
       "    <tr style=\"text-align: left;\">\n",
       "      <th>epoch</th>\n",
       "      <th>train_loss</th>\n",
       "      <th>valid_loss</th>\n",
       "      <th>accuracy</th>\n",
       "      <th>perplexity</th>\n",
       "      <th>time</th>\n",
       "    </tr>\n",
       "  </thead>\n",
       "  <tbody>\n",
       "    <tr>\n",
       "      <td>0</td>\n",
       "      <td>0.511294</td>\n",
       "      <td>0.336027</td>\n",
       "      <td>0.883121</td>\n",
       "      <td>1.399376</td>\n",
       "      <td>27:05</td>\n",
       "    </tr>\n",
       "  </tbody>\n",
       "</table>"
      ],
      "text/plain": [
       "<IPython.core.display.HTML object>"
      ]
     },
     "metadata": {},
     "output_type": "display_data"
    },
    {
     "data": {
      "text/html": [
       "<table border=\"1\" class=\"dataframe\">\n",
       "  <thead>\n",
       "    <tr style=\"text-align: left;\">\n",
       "      <th>epoch</th>\n",
       "      <th>train_loss</th>\n",
       "      <th>valid_loss</th>\n",
       "      <th>accuracy</th>\n",
       "      <th>perplexity</th>\n",
       "      <th>time</th>\n",
       "    </tr>\n",
       "  </thead>\n",
       "  <tbody>\n",
       "    <tr>\n",
       "      <td>0</td>\n",
       "      <td>0.428254</td>\n",
       "      <td>0.297486</td>\n",
       "      <td>0.901283</td>\n",
       "      <td>1.346470</td>\n",
       "      <td>34:25</td>\n",
       "    </tr>\n",
       "  </tbody>\n",
       "</table>"
      ],
      "text/plain": [
       "<IPython.core.display.HTML object>"
      ]
     },
     "metadata": {},
     "output_type": "display_data"
    },
    {
     "data": {
      "text/html": [
       "<table border=\"1\" class=\"dataframe\">\n",
       "  <thead>\n",
       "    <tr style=\"text-align: left;\">\n",
       "      <th>epoch</th>\n",
       "      <th>train_loss</th>\n",
       "      <th>valid_loss</th>\n",
       "      <th>accuracy</th>\n",
       "      <th>perplexity</th>\n",
       "      <th>time</th>\n",
       "    </tr>\n",
       "  </thead>\n",
       "  <tbody>\n",
       "    <tr>\n",
       "      <td>0</td>\n",
       "      <td>0.420518</td>\n",
       "      <td>0.280797</td>\n",
       "      <td>0.919020</td>\n",
       "      <td>1.324185</td>\n",
       "      <td>41:16</td>\n",
       "    </tr>\n",
       "    <tr>\n",
       "      <td>1</td>\n",
       "      <td>0.324070</td>\n",
       "      <td>0.197272</td>\n",
       "      <td>0.942611</td>\n",
       "      <td>1.218075</td>\n",
       "      <td>42:50</td>\n",
       "    </tr>\n",
       "    <tr>\n",
       "      <td>2</td>\n",
       "      <td>0.237189</td>\n",
       "      <td>0.165071</td>\n",
       "      <td>0.947765</td>\n",
       "      <td>1.179476</td>\n",
       "      <td>44:02</td>\n",
       "    </tr>\n",
       "    <tr>\n",
       "      <td>3</td>\n",
       "      <td>0.234629</td>\n",
       "      <td>0.185698</td>\n",
       "      <td>0.950141</td>\n",
       "      <td>1.204059</td>\n",
       "      <td>42:24</td>\n",
       "    </tr>\n",
       "    <tr>\n",
       "      <td>4</td>\n",
       "      <td>0.223163</td>\n",
       "      <td>0.160225</td>\n",
       "      <td>0.952418</td>\n",
       "      <td>1.173774</td>\n",
       "      <td>43:10</td>\n",
       "    </tr>\n",
       "  </tbody>\n",
       "</table>"
      ],
      "text/plain": [
       "<IPython.core.display.HTML object>"
      ]
     },
     "metadata": {},
     "output_type": "display_data"
    }
   ],
   "source": [
    "text_cols = [\"id\", \"registryNameServer\", \"registryExpires\", \"registryUpdated\", \"content\", \"registryCreated\", \"registry\", \"registryStatus\"]\n",
    "dls = TextDataLoaders.from_csv(path=path, csv_fname=\"spam_plus_benign.csv\", text_col=text_cols, label_col=\"classification\", valid_pct=0.2, bs=32)\n",
    "learn = text_classifier_learner(dls, AWD_LSTM, drop_mult=0.3, metrics=[accuracy, Perplexity()])\n",
    "learn.fit_one_cycle(1)\n",
    "learn.freeze_to(-2)\n",
    "learn.fit_one_cycle(1)\n",
    "learn.freeze_to(-3)\n",
    "learn.fit_one_cycle(1)\n",
    "learn.unfreeze()\n",
    "learn.fit_one_cycle(5)"
   ]
  },
  {
   "cell_type": "code",
   "execution_count": 4,
   "metadata": {},
   "outputs": [
    {
     "data": {
      "text/plain": [
       "Path('/home/g-clef/local_ml_data_copy/whois/models/spam_benign.pth')"
      ]
     },
     "execution_count": 4,
     "metadata": {},
     "output_type": "execute_result"
    }
   ],
   "source": [
    "learn.save(\"spam_benign\")"
   ]
  },
  {
   "cell_type": "markdown",
   "metadata": {},
   "source": [
    "## (note to self: save the notebook, adn shut it down between big runs like this, or python will allocate so much system RAM that it'll make the OS swap, and make these tests run *absurdly* slowly.)\n",
    "\n",
    "This one's *really* accurate, especially compared to the others. > 95% accurate? wow. and train_loss was still > valid_loss, with both decreasing (though sometimes one increasing at the cost of the other. that seems to be normal). So it's possible that this one isn't yet overfitted and could be improved even more. \n",
    "\n",
    "95% accurate, though, is a good enough start for me. That's lovely."
   ]
  },
  {
   "cell_type": "markdown",
   "metadata": {},
   "source": [
    "lastly, let's have a look at the \"big bang\" of running all the classes at once. I kinda expect this to perform much worse than the others, since we allow domains to be in multiple classes here, so confusion may be high."
   ]
  },
  {
   "cell_type": "code",
   "execution_count": 3,
   "metadata": {},
   "outputs": [
    {
     "data": {
      "text/html": [],
      "text/plain": [
       "<IPython.core.display.HTML object>"
      ]
     },
     "metadata": {},
     "output_type": "display_data"
    },
    {
     "name": "stderr",
     "output_type": "stream",
     "text": [
      "/home/g-clef/anaconda3/lib/python3.8/site-packages/numpy/core/_asarray.py:83: VisibleDeprecationWarning: Creating an ndarray from ragged nested sequences (which is a list-or-tuple of lists-or-tuples-or ndarrays with different lengths or shapes) is deprecated. If you meant to do this, you must specify 'dtype=object' when creating the ndarray\n",
      "  return array(a, dtype, copy=False, order=order)\n"
     ]
    },
    {
     "data": {
      "text/html": [
       "<table border=\"1\" class=\"dataframe\">\n",
       "  <thead>\n",
       "    <tr style=\"text-align: left;\">\n",
       "      <th>epoch</th>\n",
       "      <th>train_loss</th>\n",
       "      <th>valid_loss</th>\n",
       "      <th>accuracy</th>\n",
       "      <th>perplexity</th>\n",
       "      <th>time</th>\n",
       "    </tr>\n",
       "  </thead>\n",
       "  <tbody>\n",
       "    <tr>\n",
       "      <td>0</td>\n",
       "      <td>1.303066</td>\n",
       "      <td>1.173950</td>\n",
       "      <td>0.494350</td>\n",
       "      <td>3.234745</td>\n",
       "      <td>08:59</td>\n",
       "    </tr>\n",
       "  </tbody>\n",
       "</table>"
      ],
      "text/plain": [
       "<IPython.core.display.HTML object>"
      ]
     },
     "metadata": {},
     "output_type": "display_data"
    },
    {
     "data": {
      "text/html": [
       "<table border=\"1\" class=\"dataframe\">\n",
       "  <thead>\n",
       "    <tr style=\"text-align: left;\">\n",
       "      <th>epoch</th>\n",
       "      <th>train_loss</th>\n",
       "      <th>valid_loss</th>\n",
       "      <th>accuracy</th>\n",
       "      <th>perplexity</th>\n",
       "      <th>time</th>\n",
       "    </tr>\n",
       "  </thead>\n",
       "  <tbody>\n",
       "    <tr>\n",
       "      <td>0</td>\n",
       "      <td>1.156142</td>\n",
       "      <td>0.986218</td>\n",
       "      <td>0.602950</td>\n",
       "      <td>2.681076</td>\n",
       "      <td>10:51</td>\n",
       "    </tr>\n",
       "  </tbody>\n",
       "</table>"
      ],
      "text/plain": [
       "<IPython.core.display.HTML object>"
      ]
     },
     "metadata": {},
     "output_type": "display_data"
    },
    {
     "data": {
      "text/html": [
       "<table border=\"1\" class=\"dataframe\">\n",
       "  <thead>\n",
       "    <tr style=\"text-align: left;\">\n",
       "      <th>epoch</th>\n",
       "      <th>train_loss</th>\n",
       "      <th>valid_loss</th>\n",
       "      <th>accuracy</th>\n",
       "      <th>perplexity</th>\n",
       "      <th>time</th>\n",
       "    </tr>\n",
       "  </thead>\n",
       "  <tbody>\n",
       "    <tr>\n",
       "      <td>0</td>\n",
       "      <td>1.041330</td>\n",
       "      <td>0.917421</td>\n",
       "      <td>0.624200</td>\n",
       "      <td>2.502827</td>\n",
       "      <td>15:48</td>\n",
       "    </tr>\n",
       "  </tbody>\n",
       "</table>"
      ],
      "text/plain": [
       "<IPython.core.display.HTML object>"
      ]
     },
     "metadata": {},
     "output_type": "display_data"
    },
    {
     "data": {
      "text/html": [
       "<table border=\"1\" class=\"dataframe\">\n",
       "  <thead>\n",
       "    <tr style=\"text-align: left;\">\n",
       "      <th>epoch</th>\n",
       "      <th>train_loss</th>\n",
       "      <th>valid_loss</th>\n",
       "      <th>accuracy</th>\n",
       "      <th>perplexity</th>\n",
       "      <th>time</th>\n",
       "    </tr>\n",
       "  </thead>\n",
       "  <tbody>\n",
       "    <tr>\n",
       "      <td>0</td>\n",
       "      <td>0.910360</td>\n",
       "      <td>0.781280</td>\n",
       "      <td>0.681350</td>\n",
       "      <td>2.184267</td>\n",
       "      <td>19:54</td>\n",
       "    </tr>\n",
       "    <tr>\n",
       "      <td>1</td>\n",
       "      <td>0.823245</td>\n",
       "      <td>0.693002</td>\n",
       "      <td>0.727500</td>\n",
       "      <td>1.999710</td>\n",
       "      <td>19:56</td>\n",
       "    </tr>\n",
       "    <tr>\n",
       "      <td>2</td>\n",
       "      <td>0.704262</td>\n",
       "      <td>0.663274</td>\n",
       "      <td>0.735600</td>\n",
       "      <td>1.941137</td>\n",
       "      <td>19:54</td>\n",
       "    </tr>\n",
       "    <tr>\n",
       "      <td>3</td>\n",
       "      <td>0.615001</td>\n",
       "      <td>0.674567</td>\n",
       "      <td>0.730450</td>\n",
       "      <td>1.963182</td>\n",
       "      <td>19:55</td>\n",
       "    </tr>\n",
       "    <tr>\n",
       "      <td>4</td>\n",
       "      <td>0.579650</td>\n",
       "      <td>0.728279</td>\n",
       "      <td>0.723500</td>\n",
       "      <td>2.071513</td>\n",
       "      <td>19:56</td>\n",
       "    </tr>\n",
       "  </tbody>\n",
       "</table>"
      ],
      "text/plain": [
       "<IPython.core.display.HTML object>"
      ]
     },
     "metadata": {},
     "output_type": "display_data"
    }
   ],
   "source": [
    "text_cols = [\"id\", \"registryNameServer\", \"registryExpires\", \"registryUpdated\", \"content\", \"registryCreated\", \"registry\", \"registryStatus\"]\n",
    "dls = TextDataLoaders.from_csv(path=path, csv_fname=\"everything.csv\", text_col=text_cols, label_col=\"classification\", valid_pct=0.2, bs=32)\n",
    "learn = text_classifier_learner(dls, AWD_LSTM, drop_mult=0.3, metrics=[accuracy, Perplexity()])\n",
    "learn.fit_one_cycle(1)\n",
    "learn.freeze_to(-2)\n",
    "learn.fit_one_cycle(1)\n",
    "learn.freeze_to(-3)\n",
    "learn.fit_one_cycle(1)\n",
    "learn.unfreeze()\n",
    "learn.fit_one_cycle(5)"
   ]
  },
  {
   "cell_type": "code",
   "execution_count": 4,
   "metadata": {},
   "outputs": [
    {
     "data": {
      "text/plain": [
       "Path('/home/g-clef/local_ml_data_copy/whois/models/everything.pth')"
      ]
     },
     "execution_count": 4,
     "metadata": {},
     "output_type": "execute_result"
    }
   ],
   "source": [
    "learn.save(\"everything\")"
   ]
  },
  {
   "cell_type": "markdown",
   "metadata": {},
   "source": [
    "first thing to note: the initial building of the textdataloader took up an obscene amount of RAM on my machine. It led to the system swapping like mad, and slowed the actual computation of the dls to a crawl. The GPU during this time was completely quiescent...there were no jobs being sent to it, this was purely building the initial dls. It appears that 400k rows of this data is perhaps too much for my local system. Tried it again with swap turned off, to force Python to accept that it doesn't get any more RAM after a certain point, and that just froze the machine. Also tried setting `num_workers=0` to force it to not copy data between processes during the intial setup.\n",
    "\n",
    "None of those worked, so I ended up truncating the everything dataset to be 100k, comprised of 25k samples of each category. That's disappointing, and I'm not sure how it will impact the results at this point.  "
   ]
  },
  {
   "cell_type": "markdown",
   "metadata": {},
   "source": [
    "Anyway, now that I got it to run, it did, indeed, perform worse than the others. Don't mistake me, 70% accuracy on four categories isn't bad given that it's purely looking at the whois info. It may also be that there are simply fewer examples of each category, which is giving it fewer examples to train from.\n",
    "\n",
    "I think it might be overtrained as well, since train_loss is lower than valid_loss, and valid_loss started increasing. Still, those results are nothing to be ashamed of for a naive language model. "
   ]
  },
  {
   "cell_type": "markdown",
   "metadata": {},
   "source": [
    "Now, having done that, let's come back to some of the earlier questions. Firstly, I'd like to see if looking just at the whois itself, and skipping the other colums changes anything. We'll go back to the first, `malware_plus_benign` set, and see if we can get better than 89% with just the whois, or if this is worse."
   ]
  },
  {
   "cell_type": "code",
   "execution_count": 3,
   "metadata": {},
   "outputs": [
    {
     "data": {
      "text/html": [],
      "text/plain": [
       "<IPython.core.display.HTML object>"
      ]
     },
     "metadata": {},
     "output_type": "display_data"
    },
    {
     "name": "stderr",
     "output_type": "stream",
     "text": [
      "/home/g-clef/anaconda3/lib/python3.8/site-packages/numpy/core/_asarray.py:83: VisibleDeprecationWarning: Creating an ndarray from ragged nested sequences (which is a list-or-tuple of lists-or-tuples-or ndarrays with different lengths or shapes) is deprecated. If you meant to do this, you must specify 'dtype=object' when creating the ndarray\n",
      "  return array(a, dtype, copy=False, order=order)\n"
     ]
    },
    {
     "data": {
      "text/html": [
       "<table border=\"1\" class=\"dataframe\">\n",
       "  <thead>\n",
       "    <tr style=\"text-align: left;\">\n",
       "      <th>epoch</th>\n",
       "      <th>train_loss</th>\n",
       "      <th>valid_loss</th>\n",
       "      <th>accuracy</th>\n",
       "      <th>perplexity</th>\n",
       "      <th>time</th>\n",
       "    </tr>\n",
       "  </thead>\n",
       "  <tbody>\n",
       "    <tr>\n",
       "      <td>0</td>\n",
       "      <td>0.653912</td>\n",
       "      <td>0.525352</td>\n",
       "      <td>0.745937</td>\n",
       "      <td>1.691054</td>\n",
       "      <td>20:27</td>\n",
       "    </tr>\n",
       "  </tbody>\n",
       "</table>"
      ],
      "text/plain": [
       "<IPython.core.display.HTML object>"
      ]
     },
     "metadata": {},
     "output_type": "display_data"
    },
    {
     "data": {
      "text/html": [
       "<table border=\"1\" class=\"dataframe\">\n",
       "  <thead>\n",
       "    <tr style=\"text-align: left;\">\n",
       "      <th>epoch</th>\n",
       "      <th>train_loss</th>\n",
       "      <th>valid_loss</th>\n",
       "      <th>accuracy</th>\n",
       "      <th>perplexity</th>\n",
       "      <th>time</th>\n",
       "    </tr>\n",
       "  </thead>\n",
       "  <tbody>\n",
       "    <tr>\n",
       "      <td>0</td>\n",
       "      <td>0.501098</td>\n",
       "      <td>0.369633</td>\n",
       "      <td>0.837776</td>\n",
       "      <td>1.447204</td>\n",
       "      <td>24:03</td>\n",
       "    </tr>\n",
       "  </tbody>\n",
       "</table>"
      ],
      "text/plain": [
       "<IPython.core.display.HTML object>"
      ]
     },
     "metadata": {},
     "output_type": "display_data"
    },
    {
     "data": {
      "text/html": [
       "<table border=\"1\" class=\"dataframe\">\n",
       "  <thead>\n",
       "    <tr style=\"text-align: left;\">\n",
       "      <th>epoch</th>\n",
       "      <th>train_loss</th>\n",
       "      <th>valid_loss</th>\n",
       "      <th>accuracy</th>\n",
       "      <th>perplexity</th>\n",
       "      <th>time</th>\n",
       "    </tr>\n",
       "  </thead>\n",
       "  <tbody>\n",
       "    <tr>\n",
       "      <td>0</td>\n",
       "      <td>0.513324</td>\n",
       "      <td>0.357666</td>\n",
       "      <td>0.846177</td>\n",
       "      <td>1.429987</td>\n",
       "      <td>29:08</td>\n",
       "    </tr>\n",
       "  </tbody>\n",
       "</table>"
      ],
      "text/plain": [
       "<IPython.core.display.HTML object>"
      ]
     },
     "metadata": {},
     "output_type": "display_data"
    },
    {
     "data": {
      "text/html": [
       "<table border=\"1\" class=\"dataframe\">\n",
       "  <thead>\n",
       "    <tr style=\"text-align: left;\">\n",
       "      <th>epoch</th>\n",
       "      <th>train_loss</th>\n",
       "      <th>valid_loss</th>\n",
       "      <th>accuracy</th>\n",
       "      <th>perplexity</th>\n",
       "      <th>time</th>\n",
       "    </tr>\n",
       "  </thead>\n",
       "  <tbody>\n",
       "    <tr>\n",
       "      <td>0</td>\n",
       "      <td>0.497036</td>\n",
       "      <td>0.378999</td>\n",
       "      <td>0.843026</td>\n",
       "      <td>1.460822</td>\n",
       "      <td>36:41</td>\n",
       "    </tr>\n",
       "    <tr>\n",
       "      <td>1</td>\n",
       "      <td>0.424430</td>\n",
       "      <td>0.330132</td>\n",
       "      <td>0.878507</td>\n",
       "      <td>1.391151</td>\n",
       "      <td>36:44</td>\n",
       "    </tr>\n",
       "    <tr>\n",
       "      <td>2</td>\n",
       "      <td>0.680645</td>\n",
       "      <td>0.908663</td>\n",
       "      <td>0.584713</td>\n",
       "      <td>2.481003</td>\n",
       "      <td>36:37</td>\n",
       "    </tr>\n",
       "    <tr>\n",
       "      <td>3</td>\n",
       "      <td>0.457402</td>\n",
       "      <td>0.341828</td>\n",
       "      <td>0.872631</td>\n",
       "      <td>1.407519</td>\n",
       "      <td>36:34</td>\n",
       "    </tr>\n",
       "    <tr>\n",
       "      <td>4</td>\n",
       "      <td>0.391443</td>\n",
       "      <td>0.480057</td>\n",
       "      <td>0.880407</td>\n",
       "      <td>1.616166</td>\n",
       "      <td>36:40</td>\n",
       "    </tr>\n",
       "  </tbody>\n",
       "</table>"
      ],
      "text/plain": [
       "<IPython.core.display.HTML object>"
      ]
     },
     "metadata": {},
     "output_type": "display_data"
    }
   ],
   "source": [
    "text_cols = [\"content\",]\n",
    "dls = TextDataLoaders.from_csv(path=path, csv_fname=\"malware_plus_benign.csv\", text_col=text_cols, label_col=\"classification\", valid_pct=0.2, bs=32)\n",
    "learn = text_classifier_learner(dls, AWD_LSTM, drop_mult=0.3, metrics=[accuracy, Perplexity()])\n",
    "learn.fit_one_cycle(1)\n",
    "learn.freeze_to(-2)\n",
    "learn.fit_one_cycle(1)\n",
    "learn.freeze_to(-3)\n",
    "learn.fit_one_cycle(1)\n",
    "learn.unfreeze()\n",
    "learn.fit_one_cycle(5)"
   ]
  },
  {
   "cell_type": "code",
   "execution_count": 4,
   "metadata": {},
   "outputs": [
    {
     "data": {
      "text/plain": [
       "Path('/home/g-clef/local_ml_data_copy/whois/models/malicious_benign_content_only.pth')"
      ]
     },
     "execution_count": 4,
     "metadata": {},
     "output_type": "execute_result"
    }
   ],
   "source": [
    "learn.save(\"malicious_benign_content_only\")"
   ]
  },
  {
   "cell_type": "markdown",
   "metadata": {},
   "source": [
    "So, the first time I ran this I f'd up the data columns, and had one more data column than there were headers. That made this perform very badly (like no better than 65% accurate)...probably because it was fitting the wrong column. I'm not sure how pandas will handle a dataframe with mis-matched headers & columns, but it was a mistake in any case, so I re-ran these analyses.\n",
    "\n",
    "Now that this is fixed, it's super interesting that it's working surprisingly well. Accuracy in the high-80's from just the raw, unprocessed content of the whois record is not bad. The version with everything was just 89%, so this is comparable. It may be overtrained at th is point, given that train_loss is less than valid loss, but high-80's is still quite good. (89.2484 was where it got to with all the columns, so 88.0 with just the unparsed whois data is quite good.)\n",
    "\n",
    "Out of curiousity, after looking at the content alone, I was curious to see what the impact would be of adding the other fields back in one by one, to see which ones had the most impact on additional accuracy. Since I have a personal hunch that the nameservers are going to matter here, we'll start with those.\n",
    "\n",
    "After that, we'll add back the domain name, then both. "
   ]
  },
  {
   "cell_type": "code",
   "execution_count": 3,
   "metadata": {},
   "outputs": [
    {
     "data": {
      "text/html": [],
      "text/plain": [
       "<IPython.core.display.HTML object>"
      ]
     },
     "metadata": {},
     "output_type": "display_data"
    },
    {
     "name": "stderr",
     "output_type": "stream",
     "text": [
      "/home/g-clef/anaconda3/lib/python3.8/site-packages/numpy/core/_asarray.py:83: VisibleDeprecationWarning: Creating an ndarray from ragged nested sequences (which is a list-or-tuple of lists-or-tuples-or ndarrays with different lengths or shapes) is deprecated. If you meant to do this, you must specify 'dtype=object' when creating the ndarray\n",
      "  return array(a, dtype, copy=False, order=order)\n"
     ]
    },
    {
     "data": {
      "text/html": [
       "<table border=\"1\" class=\"dataframe\">\n",
       "  <thead>\n",
       "    <tr style=\"text-align: left;\">\n",
       "      <th>epoch</th>\n",
       "      <th>train_loss</th>\n",
       "      <th>valid_loss</th>\n",
       "      <th>accuracy</th>\n",
       "      <th>perplexity</th>\n",
       "      <th>time</th>\n",
       "    </tr>\n",
       "  </thead>\n",
       "  <tbody>\n",
       "    <tr>\n",
       "      <td>0</td>\n",
       "      <td>0.657151</td>\n",
       "      <td>0.551934</td>\n",
       "      <td>0.740661</td>\n",
       "      <td>1.736609</td>\n",
       "      <td>21:20</td>\n",
       "    </tr>\n",
       "  </tbody>\n",
       "</table>"
      ],
      "text/plain": [
       "<IPython.core.display.HTML object>"
      ]
     },
     "metadata": {},
     "output_type": "display_data"
    },
    {
     "data": {
      "text/html": [
       "<table border=\"1\" class=\"dataframe\">\n",
       "  <thead>\n",
       "    <tr style=\"text-align: left;\">\n",
       "      <th>epoch</th>\n",
       "      <th>train_loss</th>\n",
       "      <th>valid_loss</th>\n",
       "      <th>accuracy</th>\n",
       "      <th>perplexity</th>\n",
       "      <th>time</th>\n",
       "    </tr>\n",
       "  </thead>\n",
       "  <tbody>\n",
       "    <tr>\n",
       "      <td>0</td>\n",
       "      <td>0.531476</td>\n",
       "      <td>0.364293</td>\n",
       "      <td>0.844627</td>\n",
       "      <td>1.439496</td>\n",
       "      <td>23:58</td>\n",
       "    </tr>\n",
       "  </tbody>\n",
       "</table>"
      ],
      "text/plain": [
       "<IPython.core.display.HTML object>"
      ]
     },
     "metadata": {},
     "output_type": "display_data"
    },
    {
     "data": {
      "text/html": [
       "<table border=\"1\" class=\"dataframe\">\n",
       "  <thead>\n",
       "    <tr style=\"text-align: left;\">\n",
       "      <th>epoch</th>\n",
       "      <th>train_loss</th>\n",
       "      <th>valid_loss</th>\n",
       "      <th>accuracy</th>\n",
       "      <th>perplexity</th>\n",
       "      <th>time</th>\n",
       "    </tr>\n",
       "  </thead>\n",
       "  <tbody>\n",
       "    <tr>\n",
       "      <td>0</td>\n",
       "      <td>0.502845</td>\n",
       "      <td>0.390263</td>\n",
       "      <td>0.841726</td>\n",
       "      <td>1.477369</td>\n",
       "      <td>29:34</td>\n",
       "    </tr>\n",
       "  </tbody>\n",
       "</table>"
      ],
      "text/plain": [
       "<IPython.core.display.HTML object>"
      ]
     },
     "metadata": {},
     "output_type": "display_data"
    },
    {
     "data": {
      "text/html": [
       "<table border=\"1\" class=\"dataframe\">\n",
       "  <thead>\n",
       "    <tr style=\"text-align: left;\">\n",
       "      <th>epoch</th>\n",
       "      <th>train_loss</th>\n",
       "      <th>valid_loss</th>\n",
       "      <th>accuracy</th>\n",
       "      <th>perplexity</th>\n",
       "      <th>time</th>\n",
       "    </tr>\n",
       "  </thead>\n",
       "  <tbody>\n",
       "    <tr>\n",
       "      <td>0</td>\n",
       "      <td>0.473423</td>\n",
       "      <td>0.307860</td>\n",
       "      <td>0.870281</td>\n",
       "      <td>1.360510</td>\n",
       "      <td>37:22</td>\n",
       "    </tr>\n",
       "    <tr>\n",
       "      <td>1</td>\n",
       "      <td>0.429192</td>\n",
       "      <td>0.298816</td>\n",
       "      <td>0.882732</td>\n",
       "      <td>1.348261</td>\n",
       "      <td>37:30</td>\n",
       "    </tr>\n",
       "    <tr>\n",
       "      <td>2</td>\n",
       "      <td>0.381557</td>\n",
       "      <td>0.309226</td>\n",
       "      <td>0.885158</td>\n",
       "      <td>1.362370</td>\n",
       "      <td>37:25</td>\n",
       "    </tr>\n",
       "    <tr>\n",
       "      <td>3</td>\n",
       "      <td>0.336094</td>\n",
       "      <td>0.278081</td>\n",
       "      <td>0.891209</td>\n",
       "      <td>1.320593</td>\n",
       "      <td>37:21</td>\n",
       "    </tr>\n",
       "    <tr>\n",
       "      <td>4</td>\n",
       "      <td>0.308111</td>\n",
       "      <td>0.298538</td>\n",
       "      <td>0.892159</td>\n",
       "      <td>1.347887</td>\n",
       "      <td>37:15</td>\n",
       "    </tr>\n",
       "  </tbody>\n",
       "</table>"
      ],
      "text/plain": [
       "<IPython.core.display.HTML object>"
      ]
     },
     "metadata": {},
     "output_type": "display_data"
    }
   ],
   "source": [
    "text_cols = [\"content\",\"registryNameServer\"]\n",
    "dls = TextDataLoaders.from_csv(path=path, csv_fname=\"malware_plus_benign.csv\", text_col=text_cols, label_col=\"classification\", valid_pct=0.2, bs=32)\n",
    "learn = text_classifier_learner(dls, AWD_LSTM, drop_mult=0.3, metrics=[accuracy, Perplexity()])\n",
    "learn.fit_one_cycle(1)\n",
    "learn.freeze_to(-2)\n",
    "learn.fit_one_cycle(1)\n",
    "learn.freeze_to(-3)\n",
    "learn.fit_one_cycle(1)\n",
    "learn.unfreeze()\n",
    "learn.fit_one_cycle(5)"
   ]
  },
  {
   "cell_type": "markdown",
   "metadata": {},
   "source": [
    "Adding the nameservers back made it back to almost exactly the accuracy it had with all the columns, but it was already close to that (88.0) with just the whois. So this did have a positive impact, but a fairly small one.\n",
    "\n",
    "Let's try adding just the domain to the full whois content, see if that has the same effect."
   ]
  },
  {
   "cell_type": "code",
   "execution_count": 3,
   "metadata": {},
   "outputs": [
    {
     "data": {
      "text/html": [],
      "text/plain": [
       "<IPython.core.display.HTML object>"
      ]
     },
     "metadata": {},
     "output_type": "display_data"
    },
    {
     "name": "stderr",
     "output_type": "stream",
     "text": [
      "/home/g-clef/anaconda3/lib/python3.8/site-packages/numpy/core/_asarray.py:83: VisibleDeprecationWarning: Creating an ndarray from ragged nested sequences (which is a list-or-tuple of lists-or-tuples-or ndarrays with different lengths or shapes) is deprecated. If you meant to do this, you must specify 'dtype=object' when creating the ndarray\n",
      "  return array(a, dtype, copy=False, order=order)\n"
     ]
    },
    {
     "data": {
      "text/html": [
       "<table border=\"1\" class=\"dataframe\">\n",
       "  <thead>\n",
       "    <tr style=\"text-align: left;\">\n",
       "      <th>epoch</th>\n",
       "      <th>train_loss</th>\n",
       "      <th>valid_loss</th>\n",
       "      <th>accuracy</th>\n",
       "      <th>perplexity</th>\n",
       "      <th>time</th>\n",
       "    </tr>\n",
       "  </thead>\n",
       "  <tbody>\n",
       "    <tr>\n",
       "      <td>0</td>\n",
       "      <td>0.659657</td>\n",
       "      <td>0.565272</td>\n",
       "      <td>0.725209</td>\n",
       "      <td>1.759927</td>\n",
       "      <td>21:26</td>\n",
       "    </tr>\n",
       "  </tbody>\n",
       "</table>"
      ],
      "text/plain": [
       "<IPython.core.display.HTML object>"
      ]
     },
     "metadata": {},
     "output_type": "display_data"
    },
    {
     "data": {
      "text/html": [
       "<table border=\"1\" class=\"dataframe\">\n",
       "  <thead>\n",
       "    <tr style=\"text-align: left;\">\n",
       "      <th>epoch</th>\n",
       "      <th>train_loss</th>\n",
       "      <th>valid_loss</th>\n",
       "      <th>accuracy</th>\n",
       "      <th>perplexity</th>\n",
       "      <th>time</th>\n",
       "    </tr>\n",
       "  </thead>\n",
       "  <tbody>\n",
       "    <tr>\n",
       "      <td>0</td>\n",
       "      <td>0.562479</td>\n",
       "      <td>0.373781</td>\n",
       "      <td>0.837326</td>\n",
       "      <td>1.453218</td>\n",
       "      <td>24:09</td>\n",
       "    </tr>\n",
       "  </tbody>\n",
       "</table>"
      ],
      "text/plain": [
       "<IPython.core.display.HTML object>"
      ]
     },
     "metadata": {},
     "output_type": "display_data"
    },
    {
     "data": {
      "text/html": [
       "<table border=\"1\" class=\"dataframe\">\n",
       "  <thead>\n",
       "    <tr style=\"text-align: left;\">\n",
       "      <th>epoch</th>\n",
       "      <th>train_loss</th>\n",
       "      <th>valid_loss</th>\n",
       "      <th>accuracy</th>\n",
       "      <th>perplexity</th>\n",
       "      <th>time</th>\n",
       "    </tr>\n",
       "  </thead>\n",
       "  <tbody>\n",
       "    <tr>\n",
       "      <td>0</td>\n",
       "      <td>0.506287</td>\n",
       "      <td>0.349964</td>\n",
       "      <td>0.851228</td>\n",
       "      <td>1.419016</td>\n",
       "      <td>29:26</td>\n",
       "    </tr>\n",
       "  </tbody>\n",
       "</table>"
      ],
      "text/plain": [
       "<IPython.core.display.HTML object>"
      ]
     },
     "metadata": {},
     "output_type": "display_data"
    },
    {
     "data": {
      "text/html": [
       "<table border=\"1\" class=\"dataframe\">\n",
       "  <thead>\n",
       "    <tr style=\"text-align: left;\">\n",
       "      <th>epoch</th>\n",
       "      <th>train_loss</th>\n",
       "      <th>valid_loss</th>\n",
       "      <th>accuracy</th>\n",
       "      <th>perplexity</th>\n",
       "      <th>time</th>\n",
       "    </tr>\n",
       "  </thead>\n",
       "  <tbody>\n",
       "    <tr>\n",
       "      <td>0</td>\n",
       "      <td>0.438413</td>\n",
       "      <td>0.319075</td>\n",
       "      <td>0.871631</td>\n",
       "      <td>1.375855</td>\n",
       "      <td>37:23</td>\n",
       "    </tr>\n",
       "    <tr>\n",
       "      <td>1</td>\n",
       "      <td>0.430771</td>\n",
       "      <td>0.356392</td>\n",
       "      <td>0.873831</td>\n",
       "      <td>1.428168</td>\n",
       "      <td>37:19</td>\n",
       "    </tr>\n",
       "    <tr>\n",
       "      <td>2</td>\n",
       "      <td>0.356327</td>\n",
       "      <td>0.314858</td>\n",
       "      <td>0.883708</td>\n",
       "      <td>1.370065</td>\n",
       "      <td>37:20</td>\n",
       "    </tr>\n",
       "    <tr>\n",
       "      <td>3</td>\n",
       "      <td>0.340277</td>\n",
       "      <td>0.297356</td>\n",
       "      <td>0.891984</td>\n",
       "      <td>1.346295</td>\n",
       "      <td>37:18</td>\n",
       "    </tr>\n",
       "    <tr>\n",
       "      <td>4</td>\n",
       "      <td>0.260013</td>\n",
       "      <td>0.308450</td>\n",
       "      <td>0.889808</td>\n",
       "      <td>1.361314</td>\n",
       "      <td>37:16</td>\n",
       "    </tr>\n",
       "  </tbody>\n",
       "</table>"
      ],
      "text/plain": [
       "<IPython.core.display.HTML object>"
      ]
     },
     "metadata": {},
     "output_type": "display_data"
    }
   ],
   "source": [
    "text_cols = [\"content\",\"id\"]\n",
    "dls = TextDataLoaders.from_csv(path=path, csv_fname=\"malware_plus_benign.csv\", text_col=text_cols, label_col=\"classification\", valid_pct=0.2, bs=32)\n",
    "learn = text_classifier_learner(dls, AWD_LSTM, drop_mult=0.3, metrics=[accuracy, Perplexity()])\n",
    "learn.fit_one_cycle(1)\n",
    "learn.freeze_to(-2)\n",
    "learn.fit_one_cycle(1)\n",
    "learn.freeze_to(-3)\n",
    "learn.fit_one_cycle(1)\n",
    "learn.unfreeze()\n",
    "learn.fit_one_cycle(5)"
   ]
  },
  {
   "cell_type": "markdown",
   "metadata": {},
   "source": [
    "This looks slightly worse than the nameservers one, but not appreciably. This may be an unfruitful path, but let's finish it off.\n",
    "\n",
    "two other possibilities occur to me: `registryCreated` and `registry` . I can totally see a time-based correlation for malicious domains, or a registry-based one. In fact, I pretty strongly suspect the registry one is true. Let's try that next."
   ]
  },
  {
   "cell_type": "code",
   "execution_count": 3,
   "metadata": {},
   "outputs": [
    {
     "data": {
      "text/html": [],
      "text/plain": [
       "<IPython.core.display.HTML object>"
      ]
     },
     "metadata": {},
     "output_type": "display_data"
    },
    {
     "name": "stderr",
     "output_type": "stream",
     "text": [
      "/home/g-clef/anaconda3/lib/python3.8/site-packages/numpy/core/_asarray.py:83: VisibleDeprecationWarning: Creating an ndarray from ragged nested sequences (which is a list-or-tuple of lists-or-tuples-or ndarrays with different lengths or shapes) is deprecated. If you meant to do this, you must specify 'dtype=object' when creating the ndarray\n",
      "  return array(a, dtype, copy=False, order=order)\n"
     ]
    },
    {
     "data": {
      "text/html": [
       "<table border=\"1\" class=\"dataframe\">\n",
       "  <thead>\n",
       "    <tr style=\"text-align: left;\">\n",
       "      <th>epoch</th>\n",
       "      <th>train_loss</th>\n",
       "      <th>valid_loss</th>\n",
       "      <th>accuracy</th>\n",
       "      <th>perplexity</th>\n",
       "      <th>time</th>\n",
       "    </tr>\n",
       "  </thead>\n",
       "  <tbody>\n",
       "    <tr>\n",
       "      <td>0</td>\n",
       "      <td>0.663452</td>\n",
       "      <td>0.533253</td>\n",
       "      <td>0.747387</td>\n",
       "      <td>1.704467</td>\n",
       "      <td>21:36</td>\n",
       "    </tr>\n",
       "  </tbody>\n",
       "</table>"
      ],
      "text/plain": [
       "<IPython.core.display.HTML object>"
      ]
     },
     "metadata": {},
     "output_type": "display_data"
    },
    {
     "data": {
      "text/html": [
       "<table border=\"1\" class=\"dataframe\">\n",
       "  <thead>\n",
       "    <tr style=\"text-align: left;\">\n",
       "      <th>epoch</th>\n",
       "      <th>train_loss</th>\n",
       "      <th>valid_loss</th>\n",
       "      <th>accuracy</th>\n",
       "      <th>perplexity</th>\n",
       "      <th>time</th>\n",
       "    </tr>\n",
       "  </thead>\n",
       "  <tbody>\n",
       "    <tr>\n",
       "      <td>0</td>\n",
       "      <td>0.566597</td>\n",
       "      <td>0.386570</td>\n",
       "      <td>0.825874</td>\n",
       "      <td>1.471924</td>\n",
       "      <td>24:21</td>\n",
       "    </tr>\n",
       "  </tbody>\n",
       "</table>"
      ],
      "text/plain": [
       "<IPython.core.display.HTML object>"
      ]
     },
     "metadata": {},
     "output_type": "display_data"
    },
    {
     "data": {
      "text/html": [
       "<table border=\"1\" class=\"dataframe\">\n",
       "  <thead>\n",
       "    <tr style=\"text-align: left;\">\n",
       "      <th>epoch</th>\n",
       "      <th>train_loss</th>\n",
       "      <th>valid_loss</th>\n",
       "      <th>accuracy</th>\n",
       "      <th>perplexity</th>\n",
       "      <th>time</th>\n",
       "    </tr>\n",
       "  </thead>\n",
       "  <tbody>\n",
       "    <tr>\n",
       "      <td>0</td>\n",
       "      <td>0.509276</td>\n",
       "      <td>0.368582</td>\n",
       "      <td>0.838301</td>\n",
       "      <td>1.445684</td>\n",
       "      <td>29:45</td>\n",
       "    </tr>\n",
       "  </tbody>\n",
       "</table>"
      ],
      "text/plain": [
       "<IPython.core.display.HTML object>"
      ]
     },
     "metadata": {},
     "output_type": "display_data"
    },
    {
     "data": {
      "text/html": [
       "<table border=\"1\" class=\"dataframe\">\n",
       "  <thead>\n",
       "    <tr style=\"text-align: left;\">\n",
       "      <th>epoch</th>\n",
       "      <th>train_loss</th>\n",
       "      <th>valid_loss</th>\n",
       "      <th>accuracy</th>\n",
       "      <th>perplexity</th>\n",
       "      <th>time</th>\n",
       "    </tr>\n",
       "  </thead>\n",
       "  <tbody>\n",
       "    <tr>\n",
       "      <td>0</td>\n",
       "      <td>0.445605</td>\n",
       "      <td>0.352681</td>\n",
       "      <td>0.856453</td>\n",
       "      <td>1.422877</td>\n",
       "      <td>37:12</td>\n",
       "    </tr>\n",
       "    <tr>\n",
       "      <td>1</td>\n",
       "      <td>0.400480</td>\n",
       "      <td>0.321578</td>\n",
       "      <td>0.877507</td>\n",
       "      <td>1.379303</td>\n",
       "      <td>37:17</td>\n",
       "    </tr>\n",
       "    <tr>\n",
       "      <td>2</td>\n",
       "      <td>0.379589</td>\n",
       "      <td>0.488720</td>\n",
       "      <td>0.880757</td>\n",
       "      <td>1.630228</td>\n",
       "      <td>37:12</td>\n",
       "    </tr>\n",
       "    <tr>\n",
       "      <td>3</td>\n",
       "      <td>0.300424</td>\n",
       "      <td>0.329104</td>\n",
       "      <td>0.882082</td>\n",
       "      <td>1.389722</td>\n",
       "      <td>37:13</td>\n",
       "    </tr>\n",
       "    <tr>\n",
       "      <td>4</td>\n",
       "      <td>0.318386</td>\n",
       "      <td>0.325499</td>\n",
       "      <td>0.885908</td>\n",
       "      <td>1.384721</td>\n",
       "      <td>37:14</td>\n",
       "    </tr>\n",
       "  </tbody>\n",
       "</table>"
      ],
      "text/plain": [
       "<IPython.core.display.HTML object>"
      ]
     },
     "metadata": {},
     "output_type": "display_data"
    }
   ],
   "source": [
    "text_cols = [\"content\",\"registry\"]\n",
    "dls = TextDataLoaders.from_csv(path=path, csv_fname=\"malware_plus_benign.csv\", text_col=text_cols, label_col=\"classification\", valid_pct=0.2, bs=32)\n",
    "learn = text_classifier_learner(dls, AWD_LSTM, drop_mult=0.3, metrics=[accuracy, Perplexity()])\n",
    "learn.fit_one_cycle(1)\n",
    "learn.freeze_to(-2)\n",
    "learn.fit_one_cycle(1)\n",
    "learn.freeze_to(-3)\n",
    "learn.fit_one_cycle(1)\n",
    "learn.unfreeze()\n",
    "learn.fit_one_cycle(5)"
   ]
  },
  {
   "cell_type": "markdown",
   "metadata": {},
   "source": [
    "huh. Adding the registry didn't accomplish much. It's basically the same accuracy as with just the domain. I'm actually quite surprised by that. My instinct would have been that there would be a fairly strong correlation between registry and malware domains (that bad actors would prefer certain regitrars).\n",
    "\n",
    "Following up above, let's try `registryCreated`"
   ]
  },
  {
   "cell_type": "code",
   "execution_count": 3,
   "metadata": {},
   "outputs": [
    {
     "data": {
      "text/html": [],
      "text/plain": [
       "<IPython.core.display.HTML object>"
      ]
     },
     "metadata": {},
     "output_type": "display_data"
    },
    {
     "name": "stderr",
     "output_type": "stream",
     "text": [
      "/home/g-clef/anaconda3/lib/python3.8/site-packages/numpy/core/_asarray.py:83: VisibleDeprecationWarning: Creating an ndarray from ragged nested sequences (which is a list-or-tuple of lists-or-tuples-or ndarrays with different lengths or shapes) is deprecated. If you meant to do this, you must specify 'dtype=object' when creating the ndarray\n",
      "  return array(a, dtype, copy=False, order=order)\n"
     ]
    },
    {
     "data": {
      "text/html": [
       "<table border=\"1\" class=\"dataframe\">\n",
       "  <thead>\n",
       "    <tr style=\"text-align: left;\">\n",
       "      <th>epoch</th>\n",
       "      <th>train_loss</th>\n",
       "      <th>valid_loss</th>\n",
       "      <th>accuracy</th>\n",
       "      <th>perplexity</th>\n",
       "      <th>time</th>\n",
       "    </tr>\n",
       "  </thead>\n",
       "  <tbody>\n",
       "    <tr>\n",
       "      <td>0</td>\n",
       "      <td>0.654669</td>\n",
       "      <td>0.516791</td>\n",
       "      <td>0.770691</td>\n",
       "      <td>1.676639</td>\n",
       "      <td>21:45</td>\n",
       "    </tr>\n",
       "  </tbody>\n",
       "</table>"
      ],
      "text/plain": [
       "<IPython.core.display.HTML object>"
      ]
     },
     "metadata": {},
     "output_type": "display_data"
    },
    {
     "data": {
      "text/html": [
       "<table border=\"1\" class=\"dataframe\">\n",
       "  <thead>\n",
       "    <tr style=\"text-align: left;\">\n",
       "      <th>epoch</th>\n",
       "      <th>train_loss</th>\n",
       "      <th>valid_loss</th>\n",
       "      <th>accuracy</th>\n",
       "      <th>perplexity</th>\n",
       "      <th>time</th>\n",
       "    </tr>\n",
       "  </thead>\n",
       "  <tbody>\n",
       "    <tr>\n",
       "      <td>0</td>\n",
       "      <td>0.503632</td>\n",
       "      <td>0.395820</td>\n",
       "      <td>0.832525</td>\n",
       "      <td>1.485601</td>\n",
       "      <td>24:41</td>\n",
       "    </tr>\n",
       "  </tbody>\n",
       "</table>"
      ],
      "text/plain": [
       "<IPython.core.display.HTML object>"
      ]
     },
     "metadata": {},
     "output_type": "display_data"
    },
    {
     "data": {
      "text/html": [
       "<table border=\"1\" class=\"dataframe\">\n",
       "  <thead>\n",
       "    <tr style=\"text-align: left;\">\n",
       "      <th>epoch</th>\n",
       "      <th>train_loss</th>\n",
       "      <th>valid_loss</th>\n",
       "      <th>accuracy</th>\n",
       "      <th>perplexity</th>\n",
       "      <th>time</th>\n",
       "    </tr>\n",
       "  </thead>\n",
       "  <tbody>\n",
       "    <tr>\n",
       "      <td>0</td>\n",
       "      <td>0.494965</td>\n",
       "      <td>0.366697</td>\n",
       "      <td>0.847052</td>\n",
       "      <td>1.442960</td>\n",
       "      <td>29:34</td>\n",
       "    </tr>\n",
       "  </tbody>\n",
       "</table>"
      ],
      "text/plain": [
       "<IPython.core.display.HTML object>"
      ]
     },
     "metadata": {},
     "output_type": "display_data"
    },
    {
     "data": {
      "text/html": [
       "<table border=\"1\" class=\"dataframe\">\n",
       "  <thead>\n",
       "    <tr style=\"text-align: left;\">\n",
       "      <th>epoch</th>\n",
       "      <th>train_loss</th>\n",
       "      <th>valid_loss</th>\n",
       "      <th>accuracy</th>\n",
       "      <th>perplexity</th>\n",
       "      <th>time</th>\n",
       "    </tr>\n",
       "  </thead>\n",
       "  <tbody>\n",
       "    <tr>\n",
       "      <td>0</td>\n",
       "      <td>0.483581</td>\n",
       "      <td>0.364735</td>\n",
       "      <td>0.857304</td>\n",
       "      <td>1.440132</td>\n",
       "      <td>37:21</td>\n",
       "    </tr>\n",
       "    <tr>\n",
       "      <td>1</td>\n",
       "      <td>0.394297</td>\n",
       "      <td>0.298961</td>\n",
       "      <td>0.883758</td>\n",
       "      <td>1.348457</td>\n",
       "      <td>37:28</td>\n",
       "    </tr>\n",
       "    <tr>\n",
       "      <td>2</td>\n",
       "      <td>0.378830</td>\n",
       "      <td>0.288536</td>\n",
       "      <td>0.890184</td>\n",
       "      <td>1.334473</td>\n",
       "      <td>37:22</td>\n",
       "    </tr>\n",
       "    <tr>\n",
       "      <td>3</td>\n",
       "      <td>0.319705</td>\n",
       "      <td>0.331098</td>\n",
       "      <td>0.893509</td>\n",
       "      <td>1.392496</td>\n",
       "      <td>37:20</td>\n",
       "    </tr>\n",
       "    <tr>\n",
       "      <td>4</td>\n",
       "      <td>0.310072</td>\n",
       "      <td>0.310836</td>\n",
       "      <td>0.891134</td>\n",
       "      <td>1.364566</td>\n",
       "      <td>37:19</td>\n",
       "    </tr>\n",
       "  </tbody>\n",
       "</table>"
      ],
      "text/plain": [
       "<IPython.core.display.HTML object>"
      ]
     },
     "metadata": {},
     "output_type": "display_data"
    }
   ],
   "source": [
    "text_cols = [\"content\",\"registryCreated\"]\n",
    "dls = TextDataLoaders.from_csv(path=path, csv_fname=\"malware_plus_benign.csv\", text_col=text_cols, label_col=\"classification\", valid_pct=0.2, bs=32)\n",
    "learn = text_classifier_learner(dls, AWD_LSTM, drop_mult=0.3, metrics=[accuracy, Perplexity()])\n",
    "learn.fit_one_cycle(1)\n",
    "learn.freeze_to(-2)\n",
    "learn.fit_one_cycle(1)\n",
    "learn.freeze_to(-3)\n",
    "learn.fit_one_cycle(1)\n",
    "learn.unfreeze()\n",
    "learn.fit_one_cycle(5)"
   ]
  },
  {
   "cell_type": "markdown",
   "metadata": {},
   "source": [
    "So, that got back to the original accuracy, but didn't make much of a dent beyond that. \n",
    "\n",
    "I wonder what happens if I add all the timestamps?"
   ]
  },
  {
   "cell_type": "code",
   "execution_count": 3,
   "metadata": {},
   "outputs": [
    {
     "data": {
      "text/html": [],
      "text/plain": [
       "<IPython.core.display.HTML object>"
      ]
     },
     "metadata": {},
     "output_type": "display_data"
    },
    {
     "name": "stderr",
     "output_type": "stream",
     "text": [
      "/home/g-clef/anaconda3/lib/python3.8/site-packages/numpy/core/_asarray.py:83: VisibleDeprecationWarning: Creating an ndarray from ragged nested sequences (which is a list-or-tuple of lists-or-tuples-or ndarrays with different lengths or shapes) is deprecated. If you meant to do this, you must specify 'dtype=object' when creating the ndarray\n",
      "  return array(a, dtype, copy=False, order=order)\n"
     ]
    },
    {
     "data": {
      "text/html": [
       "<table border=\"1\" class=\"dataframe\">\n",
       "  <thead>\n",
       "    <tr style=\"text-align: left;\">\n",
       "      <th>epoch</th>\n",
       "      <th>train_loss</th>\n",
       "      <th>valid_loss</th>\n",
       "      <th>accuracy</th>\n",
       "      <th>perplexity</th>\n",
       "      <th>time</th>\n",
       "    </tr>\n",
       "  </thead>\n",
       "  <tbody>\n",
       "    <tr>\n",
       "      <td>0</td>\n",
       "      <td>0.664266</td>\n",
       "      <td>0.526443</td>\n",
       "      <td>0.766240</td>\n",
       "      <td>1.692899</td>\n",
       "      <td>22:29</td>\n",
       "    </tr>\n",
       "  </tbody>\n",
       "</table>"
      ],
      "text/plain": [
       "<IPython.core.display.HTML object>"
      ]
     },
     "metadata": {},
     "output_type": "display_data"
    },
    {
     "data": {
      "text/html": [
       "<table border=\"1\" class=\"dataframe\">\n",
       "  <thead>\n",
       "    <tr style=\"text-align: left;\">\n",
       "      <th>epoch</th>\n",
       "      <th>train_loss</th>\n",
       "      <th>valid_loss</th>\n",
       "      <th>accuracy</th>\n",
       "      <th>perplexity</th>\n",
       "      <th>time</th>\n",
       "    </tr>\n",
       "  </thead>\n",
       "  <tbody>\n",
       "    <tr>\n",
       "      <td>0</td>\n",
       "      <td>0.541039</td>\n",
       "      <td>0.380852</td>\n",
       "      <td>0.835525</td>\n",
       "      <td>1.463531</td>\n",
       "      <td>25:35</td>\n",
       "    </tr>\n",
       "  </tbody>\n",
       "</table>"
      ],
      "text/plain": [
       "<IPython.core.display.HTML object>"
      ]
     },
     "metadata": {},
     "output_type": "display_data"
    },
    {
     "data": {
      "text/html": [
       "<table border=\"1\" class=\"dataframe\">\n",
       "  <thead>\n",
       "    <tr style=\"text-align: left;\">\n",
       "      <th>epoch</th>\n",
       "      <th>train_loss</th>\n",
       "      <th>valid_loss</th>\n",
       "      <th>accuracy</th>\n",
       "      <th>perplexity</th>\n",
       "      <th>time</th>\n",
       "    </tr>\n",
       "  </thead>\n",
       "  <tbody>\n",
       "    <tr>\n",
       "      <td>0</td>\n",
       "      <td>0.510377</td>\n",
       "      <td>0.377457</td>\n",
       "      <td>0.844677</td>\n",
       "      <td>1.458570</td>\n",
       "      <td>30:14</td>\n",
       "    </tr>\n",
       "  </tbody>\n",
       "</table>"
      ],
      "text/plain": [
       "<IPython.core.display.HTML object>"
      ]
     },
     "metadata": {},
     "output_type": "display_data"
    },
    {
     "data": {
      "text/html": [
       "<table border=\"1\" class=\"dataframe\">\n",
       "  <thead>\n",
       "    <tr style=\"text-align: left;\">\n",
       "      <th>epoch</th>\n",
       "      <th>train_loss</th>\n",
       "      <th>valid_loss</th>\n",
       "      <th>accuracy</th>\n",
       "      <th>perplexity</th>\n",
       "      <th>time</th>\n",
       "    </tr>\n",
       "  </thead>\n",
       "  <tbody>\n",
       "    <tr>\n",
       "      <td>0</td>\n",
       "      <td>0.450346</td>\n",
       "      <td>0.347307</td>\n",
       "      <td>0.866830</td>\n",
       "      <td>1.415252</td>\n",
       "      <td>38:23</td>\n",
       "    </tr>\n",
       "    <tr>\n",
       "      <td>1</td>\n",
       "      <td>0.440764</td>\n",
       "      <td>0.337866</td>\n",
       "      <td>0.868730</td>\n",
       "      <td>1.401953</td>\n",
       "      <td>38:06</td>\n",
       "    </tr>\n",
       "    <tr>\n",
       "      <td>2</td>\n",
       "      <td>0.357215</td>\n",
       "      <td>0.335284</td>\n",
       "      <td>0.890534</td>\n",
       "      <td>1.398337</td>\n",
       "      <td>38:02</td>\n",
       "    </tr>\n",
       "    <tr>\n",
       "      <td>3</td>\n",
       "      <td>0.321744</td>\n",
       "      <td>0.345346</td>\n",
       "      <td>0.892584</td>\n",
       "      <td>1.412478</td>\n",
       "      <td>38:01</td>\n",
       "    </tr>\n",
       "    <tr>\n",
       "      <td>4</td>\n",
       "      <td>0.247602</td>\n",
       "      <td>0.394439</td>\n",
       "      <td>0.894184</td>\n",
       "      <td>1.483552</td>\n",
       "      <td>38:03</td>\n",
       "    </tr>\n",
       "  </tbody>\n",
       "</table>"
      ],
      "text/plain": [
       "<IPython.core.display.HTML object>"
      ]
     },
     "metadata": {},
     "output_type": "display_data"
    }
   ],
   "source": [
    "text_cols = [\"registryExpires\", \"registryUpdated\", \"content\", \"registryCreated\"]\n",
    "dls = TextDataLoaders.from_csv(path=path, csv_fname=\"malware_plus_benign.csv\", text_col=text_cols, label_col=\"classification\", valid_pct=0.2, bs=32)\n",
    "learn = text_classifier_learner(dls, AWD_LSTM, drop_mult=0.3, metrics=[accuracy, Perplexity()])\n",
    "learn.fit_one_cycle(1)\n",
    "learn.freeze_to(-2)\n",
    "learn.fit_one_cycle(1)\n",
    "learn.freeze_to(-3)\n",
    "learn.fit_one_cycle(1)\n",
    "learn.unfreeze()\n",
    "learn.fit_one_cycle(5)"
   ]
  },
  {
   "cell_type": "markdown",
   "metadata": {},
   "source": [
    "Huh. So adding all the timestamps got this back to the original state, but no higher or lower. It seems like the content match is dominating everything else (not a huge surprise, given that it's enormously more data than a single date or name), so the accuracy it's getting from the full whois content is dominating all the other decisions. "
   ]
  },
  {
   "cell_type": "markdown",
   "metadata": {},
   "source": [
    "Given that, the next obvious thing to do is to *remove* the full whois content, and see what the performance would be if I left that out. First let's try taking out just the full whois, and using everything else."
   ]
  },
  {
   "cell_type": "code",
   "execution_count": 3,
   "metadata": {},
   "outputs": [
    {
     "data": {
      "text/html": [],
      "text/plain": [
       "<IPython.core.display.HTML object>"
      ]
     },
     "metadata": {},
     "output_type": "display_data"
    },
    {
     "name": "stderr",
     "output_type": "stream",
     "text": [
      "/home/g-clef/anaconda3/lib/python3.8/site-packages/numpy/core/_asarray.py:83: VisibleDeprecationWarning: Creating an ndarray from ragged nested sequences (which is a list-or-tuple of lists-or-tuples-or ndarrays with different lengths or shapes) is deprecated. If you meant to do this, you must specify 'dtype=object' when creating the ndarray\n",
      "  return array(a, dtype, copy=False, order=order)\n"
     ]
    },
    {
     "data": {
      "text/html": [
       "<table border=\"1\" class=\"dataframe\">\n",
       "  <thead>\n",
       "    <tr style=\"text-align: left;\">\n",
       "      <th>epoch</th>\n",
       "      <th>train_loss</th>\n",
       "      <th>valid_loss</th>\n",
       "      <th>accuracy</th>\n",
       "      <th>perplexity</th>\n",
       "      <th>time</th>\n",
       "    </tr>\n",
       "  </thead>\n",
       "  <tbody>\n",
       "    <tr>\n",
       "      <td>0</td>\n",
       "      <td>0.691307</td>\n",
       "      <td>0.662306</td>\n",
       "      <td>0.624069</td>\n",
       "      <td>1.939259</td>\n",
       "      <td>02:43</td>\n",
       "    </tr>\n",
       "  </tbody>\n",
       "</table>"
      ],
      "text/plain": [
       "<IPython.core.display.HTML object>"
      ]
     },
     "metadata": {},
     "output_type": "display_data"
    },
    {
     "data": {
      "text/html": [
       "<table border=\"1\" class=\"dataframe\">\n",
       "  <thead>\n",
       "    <tr style=\"text-align: left;\">\n",
       "      <th>epoch</th>\n",
       "      <th>train_loss</th>\n",
       "      <th>valid_loss</th>\n",
       "      <th>accuracy</th>\n",
       "      <th>perplexity</th>\n",
       "      <th>time</th>\n",
       "    </tr>\n",
       "  </thead>\n",
       "  <tbody>\n",
       "    <tr>\n",
       "      <td>0</td>\n",
       "      <td>0.631688</td>\n",
       "      <td>0.600314</td>\n",
       "      <td>0.674301</td>\n",
       "      <td>1.822690</td>\n",
       "      <td>03:08</td>\n",
       "    </tr>\n",
       "  </tbody>\n",
       "</table>"
      ],
      "text/plain": [
       "<IPython.core.display.HTML object>"
      ]
     },
     "metadata": {},
     "output_type": "display_data"
    },
    {
     "data": {
      "text/html": [
       "<table border=\"1\" class=\"dataframe\">\n",
       "  <thead>\n",
       "    <tr style=\"text-align: left;\">\n",
       "      <th>epoch</th>\n",
       "      <th>train_loss</th>\n",
       "      <th>valid_loss</th>\n",
       "      <th>accuracy</th>\n",
       "      <th>perplexity</th>\n",
       "      <th>time</th>\n",
       "    </tr>\n",
       "  </thead>\n",
       "  <tbody>\n",
       "    <tr>\n",
       "      <td>0</td>\n",
       "      <td>0.608227</td>\n",
       "      <td>0.571405</td>\n",
       "      <td>0.685428</td>\n",
       "      <td>1.770753</td>\n",
       "      <td>03:35</td>\n",
       "    </tr>\n",
       "  </tbody>\n",
       "</table>"
      ],
      "text/plain": [
       "<IPython.core.display.HTML object>"
      ]
     },
     "metadata": {},
     "output_type": "display_data"
    },
    {
     "data": {
      "text/html": [
       "<table border=\"1\" class=\"dataframe\">\n",
       "  <thead>\n",
       "    <tr style=\"text-align: left;\">\n",
       "      <th>epoch</th>\n",
       "      <th>train_loss</th>\n",
       "      <th>valid_loss</th>\n",
       "      <th>accuracy</th>\n",
       "      <th>perplexity</th>\n",
       "      <th>time</th>\n",
       "    </tr>\n",
       "  </thead>\n",
       "  <tbody>\n",
       "    <tr>\n",
       "      <td>0</td>\n",
       "      <td>0.595440</td>\n",
       "      <td>0.691332</td>\n",
       "      <td>0.689978</td>\n",
       "      <td>1.996374</td>\n",
       "      <td>04:25</td>\n",
       "    </tr>\n",
       "    <tr>\n",
       "      <td>1</td>\n",
       "      <td>0.586165</td>\n",
       "      <td>0.562467</td>\n",
       "      <td>0.703355</td>\n",
       "      <td>1.754997</td>\n",
       "      <td>04:25</td>\n",
       "    </tr>\n",
       "    <tr>\n",
       "      <td>2</td>\n",
       "      <td>0.580344</td>\n",
       "      <td>0.559158</td>\n",
       "      <td>0.708831</td>\n",
       "      <td>1.749199</td>\n",
       "      <td>04:26</td>\n",
       "    </tr>\n",
       "    <tr>\n",
       "      <td>3</td>\n",
       "      <td>0.576549</td>\n",
       "      <td>0.526633</td>\n",
       "      <td>0.709856</td>\n",
       "      <td>1.693222</td>\n",
       "      <td>04:24</td>\n",
       "    </tr>\n",
       "    <tr>\n",
       "      <td>4</td>\n",
       "      <td>0.572886</td>\n",
       "      <td>0.535067</td>\n",
       "      <td>0.711382</td>\n",
       "      <td>1.707564</td>\n",
       "      <td>04:26</td>\n",
       "    </tr>\n",
       "  </tbody>\n",
       "</table>"
      ],
      "text/plain": [
       "<IPython.core.display.HTML object>"
      ]
     },
     "metadata": {},
     "output_type": "display_data"
    }
   ],
   "source": [
    "text_cols = [\"id\", \"registryNameServer\", \"registryExpires\", \"registryUpdated\", \"registryCreated\", \"registry\", \"registryStatus\"]\n",
    "dls = TextDataLoaders.from_csv(path=path, csv_fname=\"malware_plus_benign.csv\", text_col=text_cols, label_col=\"classification\", valid_pct=0.2, bs=32)\n",
    "learn = text_classifier_learner(dls, AWD_LSTM, drop_mult=0.3, metrics=[accuracy, Perplexity()])\n",
    "learn.fit_one_cycle(1)\n",
    "learn.freeze_to(-2)\n",
    "learn.fit_one_cycle(1)\n",
    "learn.freeze_to(-3)\n",
    "learn.fit_one_cycle(1)\n",
    "learn.unfreeze()\n",
    "learn.fit_one_cycle(5)"
   ]
  },
  {
   "cell_type": "markdown",
   "metadata": {},
   "source": [
    "That's a lot less accurate, but still much better than even odds, with a lot less time per epoch. It also seems to have stabilized at close to 70% but may still benefit from some more training. Given the path, though, I wouldn't expect more training to pull this above 75% accurate, where the full whois was tracking to closer to 89%.\n",
    "\n",
    "\n",
    "Let's try re-running the other analyses leaving out the raw whois also. "
   ]
  },
  {
   "cell_type": "code",
   "execution_count": 3,
   "metadata": {},
   "outputs": [
    {
     "data": {
      "text/html": [],
      "text/plain": [
       "<IPython.core.display.HTML object>"
      ]
     },
     "metadata": {},
     "output_type": "display_data"
    },
    {
     "name": "stderr",
     "output_type": "stream",
     "text": [
      "/home/g-clef/anaconda3/lib/python3.8/site-packages/numpy/core/_asarray.py:83: VisibleDeprecationWarning: Creating an ndarray from ragged nested sequences (which is a list-or-tuple of lists-or-tuples-or ndarrays with different lengths or shapes) is deprecated. If you meant to do this, you must specify 'dtype=object' when creating the ndarray\n",
      "  return array(a, dtype, copy=False, order=order)\n"
     ]
    },
    {
     "data": {
      "text/html": [
       "<table border=\"1\" class=\"dataframe\">\n",
       "  <thead>\n",
       "    <tr style=\"text-align: left;\">\n",
       "      <th>epoch</th>\n",
       "      <th>train_loss</th>\n",
       "      <th>valid_loss</th>\n",
       "      <th>accuracy</th>\n",
       "      <th>perplexity</th>\n",
       "      <th>time</th>\n",
       "    </tr>\n",
       "  </thead>\n",
       "  <tbody>\n",
       "    <tr>\n",
       "      <td>0</td>\n",
       "      <td>0.689834</td>\n",
       "      <td>0.658959</td>\n",
       "      <td>0.612702</td>\n",
       "      <td>1.932780</td>\n",
       "      <td>02:41</td>\n",
       "    </tr>\n",
       "  </tbody>\n",
       "</table>"
      ],
      "text/plain": [
       "<IPython.core.display.HTML object>"
      ]
     },
     "metadata": {},
     "output_type": "display_data"
    },
    {
     "data": {
      "text/html": [
       "<table border=\"1\" class=\"dataframe\">\n",
       "  <thead>\n",
       "    <tr style=\"text-align: left;\">\n",
       "      <th>epoch</th>\n",
       "      <th>train_loss</th>\n",
       "      <th>valid_loss</th>\n",
       "      <th>accuracy</th>\n",
       "      <th>perplexity</th>\n",
       "      <th>time</th>\n",
       "    </tr>\n",
       "  </thead>\n",
       "  <tbody>\n",
       "    <tr>\n",
       "      <td>0</td>\n",
       "      <td>0.647577</td>\n",
       "      <td>0.593280</td>\n",
       "      <td>0.651481</td>\n",
       "      <td>1.809916</td>\n",
       "      <td>03:09</td>\n",
       "    </tr>\n",
       "  </tbody>\n",
       "</table>"
      ],
      "text/plain": [
       "<IPython.core.display.HTML object>"
      ]
     },
     "metadata": {},
     "output_type": "display_data"
    },
    {
     "data": {
      "text/html": [
       "<table border=\"1\" class=\"dataframe\">\n",
       "  <thead>\n",
       "    <tr style=\"text-align: left;\">\n",
       "      <th>epoch</th>\n",
       "      <th>train_loss</th>\n",
       "      <th>valid_loss</th>\n",
       "      <th>accuracy</th>\n",
       "      <th>perplexity</th>\n",
       "      <th>time</th>\n",
       "    </tr>\n",
       "  </thead>\n",
       "  <tbody>\n",
       "    <tr>\n",
       "      <td>0</td>\n",
       "      <td>0.625498</td>\n",
       "      <td>0.592574</td>\n",
       "      <td>0.659357</td>\n",
       "      <td>1.808637</td>\n",
       "      <td>03:37</td>\n",
       "    </tr>\n",
       "  </tbody>\n",
       "</table>"
      ],
      "text/plain": [
       "<IPython.core.display.HTML object>"
      ]
     },
     "metadata": {},
     "output_type": "display_data"
    },
    {
     "data": {
      "text/html": [
       "<table border=\"1\" class=\"dataframe\">\n",
       "  <thead>\n",
       "    <tr style=\"text-align: left;\">\n",
       "      <th>epoch</th>\n",
       "      <th>train_loss</th>\n",
       "      <th>valid_loss</th>\n",
       "      <th>accuracy</th>\n",
       "      <th>perplexity</th>\n",
       "      <th>time</th>\n",
       "    </tr>\n",
       "  </thead>\n",
       "  <tbody>\n",
       "    <tr>\n",
       "      <td>0</td>\n",
       "      <td>0.588473</td>\n",
       "      <td>0.586338</td>\n",
       "      <td>0.670809</td>\n",
       "      <td>1.797394</td>\n",
       "      <td>04:33</td>\n",
       "    </tr>\n",
       "    <tr>\n",
       "      <td>1</td>\n",
       "      <td>0.602750</td>\n",
       "      <td>0.600147</td>\n",
       "      <td>0.667983</td>\n",
       "      <td>1.822386</td>\n",
       "      <td>04:32</td>\n",
       "    </tr>\n",
       "    <tr>\n",
       "      <td>2</td>\n",
       "      <td>0.577022</td>\n",
       "      <td>0.534752</td>\n",
       "      <td>0.658132</td>\n",
       "      <td>1.707024</td>\n",
       "      <td>04:31</td>\n",
       "    </tr>\n",
       "    <tr>\n",
       "      <td>3</td>\n",
       "      <td>0.556424</td>\n",
       "      <td>0.511060</td>\n",
       "      <td>0.667058</td>\n",
       "      <td>1.667058</td>\n",
       "      <td>04:33</td>\n",
       "    </tr>\n",
       "    <tr>\n",
       "      <td>4</td>\n",
       "      <td>0.548785</td>\n",
       "      <td>0.514143</td>\n",
       "      <td>0.665983</td>\n",
       "      <td>1.672204</td>\n",
       "      <td>04:31</td>\n",
       "    </tr>\n",
       "  </tbody>\n",
       "</table>"
      ],
      "text/plain": [
       "<IPython.core.display.HTML object>"
      ]
     },
     "metadata": {},
     "output_type": "display_data"
    }
   ],
   "source": [
    "text_cols = [\"id\", \"registryNameServer\", \"registryExpires\", \"registryUpdated\", \"registryCreated\", \"registry\", \"registryStatus\"]\n",
    "dls = TextDataLoaders.from_csv(path=path, csv_fname=\"phish_plus_benign.csv\", text_col=text_cols, label_col=\"classification\", valid_pct=0.2, bs=32)\n",
    "learn = text_classifier_learner(dls, AWD_LSTM, drop_mult=0.3, metrics=[accuracy, Perplexity()])\n",
    "learn.fit_one_cycle(1)\n",
    "learn.freeze_to(-2)\n",
    "learn.fit_one_cycle(1)\n",
    "learn.freeze_to(-3)\n",
    "learn.fit_one_cycle(1)\n",
    "learn.unfreeze()\n",
    "learn.fit_one_cycle(5)"
   ]
  },
  {
   "cell_type": "markdown",
   "metadata": {},
   "source": [
    "Well, this is interesting. It flatlined quickly, and never got ahead of the high 60-s in terms of accuracy. The one with the full whois maxed out around 85% accurate, so this is a fairly big step down. It's better than a coin toss, but not by much. \n"
   ]
  },
  {
   "cell_type": "code",
   "execution_count": 3,
   "metadata": {},
   "outputs": [
    {
     "data": {
      "text/html": [],
      "text/plain": [
       "<IPython.core.display.HTML object>"
      ]
     },
     "metadata": {},
     "output_type": "display_data"
    },
    {
     "name": "stderr",
     "output_type": "stream",
     "text": [
      "/home/g-clef/anaconda3/lib/python3.8/site-packages/numpy/core/_asarray.py:83: VisibleDeprecationWarning: Creating an ndarray from ragged nested sequences (which is a list-or-tuple of lists-or-tuples-or ndarrays with different lengths or shapes) is deprecated. If you meant to do this, you must specify 'dtype=object' when creating the ndarray\n",
      "  return array(a, dtype, copy=False, order=order)\n"
     ]
    },
    {
     "data": {
      "text/html": [
       "<table border=\"1\" class=\"dataframe\">\n",
       "  <thead>\n",
       "    <tr style=\"text-align: left;\">\n",
       "      <th>epoch</th>\n",
       "      <th>train_loss</th>\n",
       "      <th>valid_loss</th>\n",
       "      <th>accuracy</th>\n",
       "      <th>perplexity</th>\n",
       "      <th>time</th>\n",
       "    </tr>\n",
       "  </thead>\n",
       "  <tbody>\n",
       "    <tr>\n",
       "      <td>0</td>\n",
       "      <td>0.672253</td>\n",
       "      <td>0.628687</td>\n",
       "      <td>0.656568</td>\n",
       "      <td>1.875147</td>\n",
       "      <td>02:41</td>\n",
       "    </tr>\n",
       "  </tbody>\n",
       "</table>"
      ],
      "text/plain": [
       "<IPython.core.display.HTML object>"
      ]
     },
     "metadata": {},
     "output_type": "display_data"
    },
    {
     "data": {
      "text/html": [
       "<table border=\"1\" class=\"dataframe\">\n",
       "  <thead>\n",
       "    <tr style=\"text-align: left;\">\n",
       "      <th>epoch</th>\n",
       "      <th>train_loss</th>\n",
       "      <th>valid_loss</th>\n",
       "      <th>accuracy</th>\n",
       "      <th>perplexity</th>\n",
       "      <th>time</th>\n",
       "    </tr>\n",
       "  </thead>\n",
       "  <tbody>\n",
       "    <tr>\n",
       "      <td>0</td>\n",
       "      <td>0.585202</td>\n",
       "      <td>0.624904</td>\n",
       "      <td>0.706877</td>\n",
       "      <td>1.868067</td>\n",
       "      <td>03:09</td>\n",
       "    </tr>\n",
       "  </tbody>\n",
       "</table>"
      ],
      "text/plain": [
       "<IPython.core.display.HTML object>"
      ]
     },
     "metadata": {},
     "output_type": "display_data"
    },
    {
     "data": {
      "text/html": [
       "<table border=\"1\" class=\"dataframe\">\n",
       "  <thead>\n",
       "    <tr style=\"text-align: left;\">\n",
       "      <th>epoch</th>\n",
       "      <th>train_loss</th>\n",
       "      <th>valid_loss</th>\n",
       "      <th>accuracy</th>\n",
       "      <th>perplexity</th>\n",
       "      <th>time</th>\n",
       "    </tr>\n",
       "  </thead>\n",
       "  <tbody>\n",
       "    <tr>\n",
       "      <td>0</td>\n",
       "      <td>0.566745</td>\n",
       "      <td>0.540087</td>\n",
       "      <td>0.709129</td>\n",
       "      <td>1.716156</td>\n",
       "      <td>03:38</td>\n",
       "    </tr>\n",
       "  </tbody>\n",
       "</table>"
      ],
      "text/plain": [
       "<IPython.core.display.HTML object>"
      ]
     },
     "metadata": {},
     "output_type": "display_data"
    },
    {
     "data": {
      "text/html": [
       "<table border=\"1\" class=\"dataframe\">\n",
       "  <thead>\n",
       "    <tr style=\"text-align: left;\">\n",
       "      <th>epoch</th>\n",
       "      <th>train_loss</th>\n",
       "      <th>valid_loss</th>\n",
       "      <th>accuracy</th>\n",
       "      <th>perplexity</th>\n",
       "      <th>time</th>\n",
       "    </tr>\n",
       "  </thead>\n",
       "  <tbody>\n",
       "    <tr>\n",
       "      <td>0</td>\n",
       "      <td>0.499739</td>\n",
       "      <td>0.508869</td>\n",
       "      <td>0.730218</td>\n",
       "      <td>1.663409</td>\n",
       "      <td>04:32</td>\n",
       "    </tr>\n",
       "    <tr>\n",
       "      <td>1</td>\n",
       "      <td>0.503360</td>\n",
       "      <td>0.451244</td>\n",
       "      <td>0.728892</td>\n",
       "      <td>1.570264</td>\n",
       "      <td>04:33</td>\n",
       "    </tr>\n",
       "    <tr>\n",
       "      <td>2</td>\n",
       "      <td>0.490418</td>\n",
       "      <td>0.442655</td>\n",
       "      <td>0.737923</td>\n",
       "      <td>1.556835</td>\n",
       "      <td>04:33</td>\n",
       "    </tr>\n",
       "    <tr>\n",
       "      <td>3</td>\n",
       "      <td>0.492845</td>\n",
       "      <td>0.434042</td>\n",
       "      <td>0.738298</td>\n",
       "      <td>1.543484</td>\n",
       "      <td>04:32</td>\n",
       "    </tr>\n",
       "    <tr>\n",
       "      <td>4</td>\n",
       "      <td>0.453780</td>\n",
       "      <td>0.436137</td>\n",
       "      <td>0.736747</td>\n",
       "      <td>1.546720</td>\n",
       "      <td>04:33</td>\n",
       "    </tr>\n",
       "  </tbody>\n",
       "</table>"
      ],
      "text/plain": [
       "<IPython.core.display.HTML object>"
      ]
     },
     "metadata": {},
     "output_type": "display_data"
    }
   ],
   "source": [
    "text_cols = [\"id\", \"registryNameServer\", \"registryExpires\", \"registryUpdated\", \"registryCreated\", \"registry\", \"registryStatus\"]\n",
    "dls = TextDataLoaders.from_csv(path=path, csv_fname=\"spam_plus_benign.csv\", text_col=text_cols, label_col=\"classification\", valid_pct=0.2, bs=32)\n",
    "learn = text_classifier_learner(dls, AWD_LSTM, drop_mult=0.3, metrics=[accuracy, Perplexity()])\n",
    "learn.fit_one_cycle(1)\n",
    "learn.freeze_to(-2)\n",
    "learn.fit_one_cycle(1)\n",
    "learn.freeze_to(-3)\n",
    "learn.fit_one_cycle(1)\n",
    "learn.unfreeze()\n",
    "learn.fit_one_cycle(5)"
   ]
  },
  {
   "cell_type": "markdown",
   "metadata": {},
   "source": [
    "This maxed out at 95% accurate with the raw whois, and 74% without. That's a pretty serious step down. \n",
    "\n",
    "Lastly, the \"everything.csv\" file."
   ]
  },
  {
   "cell_type": "code",
   "execution_count": 3,
   "metadata": {},
   "outputs": [
    {
     "data": {
      "text/html": [],
      "text/plain": [
       "<IPython.core.display.HTML object>"
      ]
     },
     "metadata": {},
     "output_type": "display_data"
    },
    {
     "name": "stderr",
     "output_type": "stream",
     "text": [
      "/home/g-clef/anaconda3/lib/python3.8/site-packages/numpy/core/_asarray.py:83: VisibleDeprecationWarning: Creating an ndarray from ragged nested sequences (which is a list-or-tuple of lists-or-tuples-or ndarrays with different lengths or shapes) is deprecated. If you meant to do this, you must specify 'dtype=object' when creating the ndarray\n",
      "  return array(a, dtype, copy=False, order=order)\n"
     ]
    },
    {
     "data": {
      "text/html": [
       "<table border=\"1\" class=\"dataframe\">\n",
       "  <thead>\n",
       "    <tr style=\"text-align: left;\">\n",
       "      <th>epoch</th>\n",
       "      <th>train_loss</th>\n",
       "      <th>valid_loss</th>\n",
       "      <th>accuracy</th>\n",
       "      <th>perplexity</th>\n",
       "      <th>time</th>\n",
       "    </tr>\n",
       "  </thead>\n",
       "  <tbody>\n",
       "    <tr>\n",
       "      <td>0</td>\n",
       "      <td>1.376452</td>\n",
       "      <td>1.337610</td>\n",
       "      <td>0.323700</td>\n",
       "      <td>3.809927</td>\n",
       "      <td>01:20</td>\n",
       "    </tr>\n",
       "  </tbody>\n",
       "</table>"
      ],
      "text/plain": [
       "<IPython.core.display.HTML object>"
      ]
     },
     "metadata": {},
     "output_type": "display_data"
    },
    {
     "data": {
      "text/html": [
       "<table border=\"1\" class=\"dataframe\">\n",
       "  <thead>\n",
       "    <tr style=\"text-align: left;\">\n",
       "      <th>epoch</th>\n",
       "      <th>train_loss</th>\n",
       "      <th>valid_loss</th>\n",
       "      <th>accuracy</th>\n",
       "      <th>perplexity</th>\n",
       "      <th>time</th>\n",
       "    </tr>\n",
       "  </thead>\n",
       "  <tbody>\n",
       "    <tr>\n",
       "      <td>0</td>\n",
       "      <td>1.344559</td>\n",
       "      <td>1.269160</td>\n",
       "      <td>0.366200</td>\n",
       "      <td>3.557864</td>\n",
       "      <td>01:33</td>\n",
       "    </tr>\n",
       "  </tbody>\n",
       "</table>"
      ],
      "text/plain": [
       "<IPython.core.display.HTML object>"
      ]
     },
     "metadata": {},
     "output_type": "display_data"
    },
    {
     "data": {
      "text/html": [
       "<table border=\"1\" class=\"dataframe\">\n",
       "  <thead>\n",
       "    <tr style=\"text-align: left;\">\n",
       "      <th>epoch</th>\n",
       "      <th>train_loss</th>\n",
       "      <th>valid_loss</th>\n",
       "      <th>accuracy</th>\n",
       "      <th>perplexity</th>\n",
       "      <th>time</th>\n",
       "    </tr>\n",
       "  </thead>\n",
       "  <tbody>\n",
       "    <tr>\n",
       "      <td>0</td>\n",
       "      <td>1.279905</td>\n",
       "      <td>1.267000</td>\n",
       "      <td>0.418500</td>\n",
       "      <td>3.550187</td>\n",
       "      <td>01:48</td>\n",
       "    </tr>\n",
       "  </tbody>\n",
       "</table>"
      ],
      "text/plain": [
       "<IPython.core.display.HTML object>"
      ]
     },
     "metadata": {},
     "output_type": "display_data"
    },
    {
     "data": {
      "text/html": [
       "<table border=\"1\" class=\"dataframe\">\n",
       "  <thead>\n",
       "    <tr style=\"text-align: left;\">\n",
       "      <th>epoch</th>\n",
       "      <th>train_loss</th>\n",
       "      <th>valid_loss</th>\n",
       "      <th>accuracy</th>\n",
       "      <th>perplexity</th>\n",
       "      <th>time</th>\n",
       "    </tr>\n",
       "  </thead>\n",
       "  <tbody>\n",
       "    <tr>\n",
       "      <td>0</td>\n",
       "      <td>1.227397</td>\n",
       "      <td>1.647639</td>\n",
       "      <td>0.350250</td>\n",
       "      <td>5.194699</td>\n",
       "      <td>02:13</td>\n",
       "    </tr>\n",
       "    <tr>\n",
       "      <td>1</td>\n",
       "      <td>1.113060</td>\n",
       "      <td>1.189788</td>\n",
       "      <td>0.476500</td>\n",
       "      <td>3.286386</td>\n",
       "      <td>02:14</td>\n",
       "    </tr>\n",
       "    <tr>\n",
       "      <td>2</td>\n",
       "      <td>1.144386</td>\n",
       "      <td>1.128097</td>\n",
       "      <td>0.483450</td>\n",
       "      <td>3.089771</td>\n",
       "      <td>02:13</td>\n",
       "    </tr>\n",
       "    <tr>\n",
       "      <td>3</td>\n",
       "      <td>1.118706</td>\n",
       "      <td>1.124633</td>\n",
       "      <td>0.487300</td>\n",
       "      <td>3.079087</td>\n",
       "      <td>02:14</td>\n",
       "    </tr>\n",
       "    <tr>\n",
       "      <td>4</td>\n",
       "      <td>1.101728</td>\n",
       "      <td>1.124326</td>\n",
       "      <td>0.490050</td>\n",
       "      <td>3.078141</td>\n",
       "      <td>02:14</td>\n",
       "    </tr>\n",
       "  </tbody>\n",
       "</table>"
      ],
      "text/plain": [
       "<IPython.core.display.HTML object>"
      ]
     },
     "metadata": {},
     "output_type": "display_data"
    }
   ],
   "source": [
    "text_cols = [\"id\", \"registryNameServer\", \"registryExpires\", \"registryUpdated\", \"registryCreated\", \"registry\", \"registryStatus\"]\n",
    "dls = TextDataLoaders.from_csv(path=path, csv_fname=\"everything.csv\", text_col=text_cols, label_col=\"classification\", valid_pct=0.2, bs=32)\n",
    "learn = text_classifier_learner(dls, AWD_LSTM, drop_mult=0.3, metrics=[accuracy, Perplexity()])\n",
    "learn.fit_one_cycle(1)\n",
    "learn.freeze_to(-2)\n",
    "learn.fit_one_cycle(1)\n",
    "learn.freeze_to(-3)\n",
    "learn.fit_one_cycle(1)\n",
    "learn.unfreeze()\n",
    "learn.fit_one_cycle(5)"
   ]
  },
  {
   "cell_type": "markdown",
   "metadata": {},
   "source": [
    "originally this maxed out at 72% accurate with the full whois `content`. Leaving it out, we get to...50%...now, it's 4 categories, so it's better than a coin toss, but that's still not great."
   ]
  },
  {
   "cell_type": "markdown",
   "metadata": {},
   "source": [
    "So...the whole point of this exercise was to see if an NLP model could do effective classification based just on the whois field, and the answer to that is clearly \"yes\", which is neat. I'm a little surprised (well, more disappointed) that parsed fields (timestamps, etc) aren't very useful, but the full whois data is. I would like to be able to introspect the full whois content models a bit more to see what they're flagging on that the parsed fields don't have...but some of the pure-whois models got up to 95% accurate, which is really impressive.\n",
    "\n",
    "So, what I think the next step is to build a random forest classifier, based on the non-`content` fields. What I'm hoping to get out of that is a better map of which of those fields are \"useful\" (for lack of a better phrase) in classification, and experiment a bit with the date-ifying stuff that fastai has (take a date, add day-of-week, day-of-month, day-of-year, etc columns) to see if there are any interesting correlations there. But that's for another notebook."
   ]
  },
  {
   "cell_type": "code",
   "execution_count": null,
   "metadata": {},
   "outputs": [],
   "source": []
  }
 ],
 "metadata": {
  "kernelspec": {
   "display_name": "Python 3",
   "language": "python",
   "name": "python3"
  },
  "language_info": {
   "codemirror_mode": {
    "name": "ipython",
    "version": 3
   },
   "file_extension": ".py",
   "mimetype": "text/x-python",
   "name": "python",
   "nbconvert_exporter": "python",
   "pygments_lexer": "ipython3",
   "version": "3.8.2"
  }
 },
 "nbformat": 4,
 "nbformat_minor": 4
}
